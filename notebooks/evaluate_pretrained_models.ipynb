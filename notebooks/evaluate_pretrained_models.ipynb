{
 "cells": [
  {
   "cell_type": "markdown",
   "id": "1b179551-ed28-4d5a-af54-f023227315b9",
   "metadata": {},
   "source": [
    "# Pretrained Models Evaluation\n",
    "\n",
    "There are sentiment analysis models on huggingface that use state of the art models such as `BERT` and `DistilBERT` as the base model. \n",
    "\n",
    "Goal is to see how the pre-trained sentiment analysis models perform against the crypto-related reddit comment dataset. \n",
    "\n",
    "1. Test existing pretrained sentiment analysis deep learning models against the given dataset. \n",
    "2. Calculate accuracy against given dataset.\n",
    "3. Calculate inference time for longest sequence token count = 701"
   ]
  },
  {
   "cell_type": "code",
   "execution_count": 1,
   "id": "5299aacb-7e68-456b-b1df-269dddf528d7",
   "metadata": {
    "execution": {
     "iopub.execute_input": "2023-01-23T22:34:35.284426Z",
     "iopub.status.busy": "2023-01-23T22:34:35.283978Z",
     "iopub.status.idle": "2023-01-23T22:34:38.123111Z",
     "shell.execute_reply": "2023-01-23T22:34:38.122280Z",
     "shell.execute_reply.started": "2023-01-23T22:34:35.284368Z"
    },
    "tags": []
   },
   "outputs": [
    {
     "name": "stderr",
     "output_type": "stream",
     "text": [
      "/Users/mwaka/opt/anaconda3/envs/messari/lib/python3.9/site-packages/tqdm/auto.py:22: TqdmWarning: IProgress not found. Please update jupyter and ipywidgets. See https://ipywidgets.readthedocs.io/en/stable/user_install.html\n",
      "  from .autonotebook import tqdm as notebook_tqdm\n"
     ]
    }
   ],
   "source": [
    "import emoji\n",
    "import pandas as pd\n",
    "from sklearn.metrics import accuracy_score\n",
    "import torch\n",
    "from transformers import DistilBertTokenizer, AutoTokenizer, pipeline"
   ]
  },
  {
   "cell_type": "code",
   "execution_count": 28,
   "id": "78cfdedc-de05-4d26-918a-2d9cba6615c6",
   "metadata": {
    "execution": {
     "iopub.execute_input": "2023-01-21T18:25:38.146929Z",
     "iopub.status.busy": "2023-01-21T18:25:38.146582Z",
     "iopub.status.idle": "2023-01-21T18:25:38.150907Z",
     "shell.execute_reply": "2023-01-21T18:25:38.150133Z",
     "shell.execute_reply.started": "2023-01-21T18:25:38.146902Z"
    },
    "tags": []
   },
   "outputs": [],
   "source": [
    "pd.set_option('max_colwidth', None)"
   ]
  },
  {
   "cell_type": "markdown",
   "id": "8a6c3220-fd41-4b0f-9969-c683f26db625",
   "metadata": {},
   "source": [
    "## Test Distilbert Sentiment Analysis Model\n",
    "\n",
    "Model source: https://huggingface.co/distilbert-base-uncased-finetuned-sst-2-english?text=I+like+you.+I+love+you\n",
    "\n",
    "This model is a distilbert model fine-tuned on [SST2](https://huggingface.co/datasets/sst2). \n",
    "This model outputs negative and positive sentiment labels."
   ]
  },
  {
   "cell_type": "code",
   "execution_count": 199,
   "id": "7ef93dc6-da91-4217-a02a-cb6fc0db3ba9",
   "metadata": {
    "execution": {
     "iopub.execute_input": "2023-01-22T16:07:01.215786Z",
     "iopub.status.busy": "2023-01-22T16:07:01.215425Z",
     "iopub.status.idle": "2023-01-22T16:07:03.202130Z",
     "shell.execute_reply": "2023-01-22T16:07:03.201465Z",
     "shell.execute_reply.started": "2023-01-22T16:07:01.215759Z"
    },
    "tags": []
   },
   "outputs": [],
   "source": [
    "distilbert_classifier = pipeline(model=\"distilbert-base-uncased-finetuned-sst-2-english\")"
   ]
  },
  {
   "cell_type": "code",
   "execution_count": 2,
   "id": "bdf9c481-f247-4f76-85af-87caa14a59fa",
   "metadata": {
    "execution": {
     "iopub.execute_input": "2023-01-21T18:01:10.073831Z",
     "iopub.status.busy": "2023-01-21T18:01:10.073060Z",
     "iopub.status.idle": "2023-01-21T18:01:10.078353Z",
     "shell.execute_reply": "2023-01-21T18:01:10.077482Z",
     "shell.execute_reply.started": "2023-01-21T18:01:10.073787Z"
    }
   },
   "outputs": [],
   "source": [
    "crypto_sentiment_dataset_path = '../datasets/crypto_reddit_sentiment.csv'"
   ]
  },
  {
   "cell_type": "code",
   "execution_count": 174,
   "id": "c266fce3-08d1-4734-acfb-892ecb7b2ac2",
   "metadata": {
    "execution": {
     "iopub.execute_input": "2023-01-21T22:18:46.746052Z",
     "iopub.status.busy": "2023-01-21T22:18:46.745706Z",
     "iopub.status.idle": "2023-01-21T22:18:46.760055Z",
     "shell.execute_reply": "2023-01-21T22:18:46.759349Z",
     "shell.execute_reply.started": "2023-01-21T22:18:46.746025Z"
    },
    "tags": []
   },
   "outputs": [],
   "source": [
    "df = pd.read_csv(crypto_sentiment_dataset_path)\n",
    "df = df.drop_duplicates(subset='Comment Text')"
   ]
  },
  {
   "cell_type": "markdown",
   "id": "883cde34-c6aa-44b5-affc-3262f9d32868",
   "metadata": {},
   "source": [
    "### During data exploration, I noticed some comments had emojis, so I'm checking here if distilbert has emojis in its dictionary. If it doesn't, I'll convert them into text for additional signal."
   ]
  },
  {
   "cell_type": "code",
   "execution_count": 66,
   "id": "ff11a4e5-08d7-451a-b828-1ade0e9cabe3",
   "metadata": {
    "execution": {
     "iopub.execute_input": "2023-01-21T18:57:08.937144Z",
     "iopub.status.busy": "2023-01-21T18:57:08.936582Z",
     "iopub.status.idle": "2023-01-21T18:57:09.172821Z",
     "shell.execute_reply": "2023-01-21T18:57:09.172055Z",
     "shell.execute_reply.started": "2023-01-21T18:57:08.937117Z"
    },
    "tags": []
   },
   "outputs": [
    {
     "data": {
      "text/plain": [
       "['unbelievable', '[UNK]', '[UNK]']"
      ]
     },
     "execution_count": 66,
     "metadata": {},
     "output_type": "execute_result"
    }
   ],
   "source": [
    "text_with_emojis = \"Unbelievable 😒 🙄\"\n",
    "\n",
    "tokenizer = DistilBertTokenizer.from_pretrained(\"distilbert-base-uncased\")\n",
    "tokenizer.tokenize(text_with_emojis)"
   ]
  },
  {
   "cell_type": "code",
   "execution_count": 68,
   "id": "5b0131b6-b648-40d8-ab16-750636c62618",
   "metadata": {
    "execution": {
     "iopub.execute_input": "2023-01-21T18:57:27.846117Z",
     "iopub.status.busy": "2023-01-21T18:57:27.845550Z",
     "iopub.status.idle": "2023-01-21T18:57:27.852108Z",
     "shell.execute_reply": "2023-01-21T18:57:27.851189Z",
     "shell.execute_reply.started": "2023-01-21T18:57:27.846091Z"
    },
    "tags": []
   },
   "outputs": [
    {
     "name": "stdout",
     "output_type": "stream",
     "text": [
      "Unbelievable :unamused_face: :face_with_rolling_eyes:\n"
     ]
    },
    {
     "data": {
      "text/plain": [
       "'unbelievable : una ##mus ##ed _ face : : face _ with _ rolling _ eyes :'"
      ]
     },
     "execution_count": 68,
     "metadata": {},
     "output_type": "execute_result"
    }
   ],
   "source": [
    "demojized_text = emoji.demojize(text_with_emojis)\n",
    "print(demojized_text)\n",
    "\" \".join(tokenizer.tokenize(demojized_text))"
   ]
  },
  {
   "cell_type": "code",
   "execution_count": 225,
   "id": "5b529896-c92a-41cd-804b-94bd7080794a",
   "metadata": {
    "execution": {
     "iopub.execute_input": "2023-01-22T16:41:11.915214Z",
     "iopub.status.busy": "2023-01-22T16:41:11.914538Z",
     "iopub.status.idle": "2023-01-22T16:41:11.919822Z",
     "shell.execute_reply": "2023-01-22T16:41:11.918961Z",
     "shell.execute_reply.started": "2023-01-22T16:41:11.915180Z"
    },
    "tags": []
   },
   "outputs": [],
   "source": [
    "def get_predictions(classifier, row, max_length=None):\n",
    "    text = row['clean_text']\n",
    "    result = classifier(text, truncation=True, max_length=max_length, top_k=2)\n",
    "    pred = result[0]\n",
    "    # if the top prediction is neutral, pick the next best prediction\n",
    "    if result[0]['label'].lower() == 'neutral': #\n",
    "        pred = result[1]\n",
    "    return pred['label'].lower(), pred['score']"
   ]
  },
  {
   "cell_type": "code",
   "execution_count": 175,
   "id": "77583649-1f9d-413d-b254-0a66518cadd0",
   "metadata": {
    "execution": {
     "iopub.execute_input": "2023-01-21T22:18:51.827775Z",
     "iopub.status.busy": "2023-01-21T22:18:51.827371Z",
     "iopub.status.idle": "2023-01-21T22:18:51.863160Z",
     "shell.execute_reply": "2023-01-21T22:18:51.862473Z",
     "shell.execute_reply.started": "2023-01-21T22:18:51.827748Z"
    },
    "tags": []
   },
   "outputs": [],
   "source": [
    "df['clean_text'] = df['Comment Text'].apply(emoji.demojize)"
   ]
  },
  {
   "cell_type": "code",
   "execution_count": 177,
   "id": "63982332-e2a1-4ed3-9037-e34eac4745a9",
   "metadata": {
    "execution": {
     "iopub.execute_input": "2023-01-21T22:18:58.705850Z",
     "iopub.status.busy": "2023-01-21T22:18:58.705460Z",
     "iopub.status.idle": "2023-01-21T22:18:58.710753Z",
     "shell.execute_reply": "2023-01-21T22:18:58.710001Z",
     "shell.execute_reply.started": "2023-01-21T22:18:58.705823Z"
    }
   },
   "outputs": [],
   "source": [
    "# lowercasing sentiment labels for accuracy calculation later\n",
    "df['ground_truth'] = df['Sentiment'].apply(lambda s: s.lower())"
   ]
  },
  {
   "cell_type": "code",
   "execution_count": 213,
   "id": "4431e5ea-0d30-490d-9952-0f137140c69f",
   "metadata": {
    "execution": {
     "iopub.execute_input": "2023-01-22T16:37:06.262311Z",
     "iopub.status.busy": "2023-01-22T16:37:06.261973Z",
     "iopub.status.idle": "2023-01-22T16:37:19.762865Z",
     "shell.execute_reply": "2023-01-22T16:37:19.762199Z",
     "shell.execute_reply.started": "2023-01-22T16:37:06.262285Z"
    },
    "tags": []
   },
   "outputs": [],
   "source": [
    "df[['pred_label_distilbert', 'pred_score_distilbert']] = df.apply(lambda x: get_predictions(distilbert_classifier, x), axis=1, result_type=\"expand\")"
   ]
  },
  {
   "cell_type": "code",
   "execution_count": 214,
   "id": "eeb997c3-ca2a-490f-ba84-9e83d8d68b0a",
   "metadata": {
    "execution": {
     "iopub.execute_input": "2023-01-22T16:37:21.430909Z",
     "iopub.status.busy": "2023-01-22T16:37:21.430572Z",
     "iopub.status.idle": "2023-01-22T16:37:21.439122Z",
     "shell.execute_reply": "2023-01-22T16:37:21.438362Z",
     "shell.execute_reply.started": "2023-01-22T16:37:21.430883Z"
    },
    "tags": []
   },
   "outputs": [
    {
     "data": {
      "text/plain": [
       "0.7192028985507246"
      ]
     },
     "execution_count": 214,
     "metadata": {},
     "output_type": "execute_result"
    }
   ],
   "source": [
    "accuracy_score(df['ground_truth'], df['pred_label_distilbert'])"
   ]
  },
  {
   "cell_type": "markdown",
   "id": "f9905865-e5f1-4105-8888-316abf309be0",
   "metadata": {},
   "source": [
    "Accuracy is lower than expected. This may be because the dataset the model was fine-tuned on are movie reviews which are very different from crypto content. \n",
    "\n",
    "Based on the [Paperswithcode SOTA for Sentiment Analysis on SST2](https://paperswithcode.com/sota/sentiment-analysis-on-sst-2-binary), there are also other larger more accurate model architectures like Roberta that may be worth trying."
   ]
  },
  {
   "cell_type": "markdown",
   "id": "ce74b062-1949-49ff-8f41-efb87768e9e4",
   "metadata": {},
   "source": [
    "## Test Roberta Sentiment Analysis\n",
    "\n",
    "Model source: https://huggingface.co/cardiffnlp/twitter-roberta-base-sentiment-latest\n",
    "\n",
    "This model is a Roberta model fine-tuned on [TweetEval](https://huggingface.co/datasets/tweet_eval) dataset. \n",
    "This model outputs negative, neutral, and positive sentiment labels."
   ]
  },
  {
   "cell_type": "code",
   "execution_count": 118,
   "id": "6e83f2e6-cc95-4950-a619-45ba7c9c14ca",
   "metadata": {
    "collapsed": true,
    "execution": {
     "iopub.execute_input": "2023-01-21T19:35:31.222891Z",
     "iopub.status.busy": "2023-01-21T19:35:31.222291Z",
     "iopub.status.idle": "2023-01-21T19:35:33.744775Z",
     "shell.execute_reply": "2023-01-21T19:35:33.744100Z",
     "shell.execute_reply.started": "2023-01-21T19:35:31.222861Z"
    },
    "jupyter": {
     "outputs_hidden": true
    },
    "tags": []
   },
   "outputs": [
    {
     "name": "stderr",
     "output_type": "stream",
     "text": [
      "Some weights of the model checkpoint at cardiffnlp/twitter-roberta-base-sentiment-latest were not used when initializing RobertaForSequenceClassification: ['roberta.pooler.dense.bias', 'roberta.pooler.dense.weight']\n",
      "- This IS expected if you are initializing RobertaForSequenceClassification from the checkpoint of a model trained on another task or with another architecture (e.g. initializing a BertForSequenceClassification model from a BertForPreTraining model).\n",
      "- This IS NOT expected if you are initializing RobertaForSequenceClassification from the checkpoint of a model that you expect to be exactly identical (initializing a BertForSequenceClassification model from a BertForSequenceClassification model).\n"
     ]
    }
   ],
   "source": [
    "roberta_classifier = pipeline('sentiment-analysis', \n",
    "                              model=\"cardiffnlp/twitter-roberta-base-sentiment-latest\")"
   ]
  },
  {
   "cell_type": "code",
   "execution_count": 226,
   "id": "e34c1f3e-7570-4548-8b11-0076c612de57",
   "metadata": {
    "execution": {
     "iopub.execute_input": "2023-01-22T16:41:14.590763Z",
     "iopub.status.busy": "2023-01-22T16:41:14.590172Z",
     "iopub.status.idle": "2023-01-22T16:41:39.852129Z",
     "shell.execute_reply": "2023-01-22T16:41:39.851392Z",
     "shell.execute_reply.started": "2023-01-22T16:41:14.590735Z"
    },
    "tags": []
   },
   "outputs": [],
   "source": [
    "# Maximum length set to 511 - https://huggingface.co/cardiffnlp/twitter-roberta-base-sentiment-latest/discussions/2\n",
    "df[['pred_label_roberta', 'pred_score_roberta']] = df.apply(lambda x: get_predictions(roberta_classifier, x, max_length=511), axis=1, result_type=\"expand\")"
   ]
  },
  {
   "cell_type": "code",
   "execution_count": 227,
   "id": "4f1a5e83-e482-4cb9-9685-2f694a3175bc",
   "metadata": {
    "execution": {
     "iopub.execute_input": "2023-01-22T16:41:39.854357Z",
     "iopub.status.busy": "2023-01-22T16:41:39.854040Z",
     "iopub.status.idle": "2023-01-22T16:41:39.861089Z",
     "shell.execute_reply": "2023-01-22T16:41:39.860073Z",
     "shell.execute_reply.started": "2023-01-22T16:41:39.854330Z"
    },
    "tags": []
   },
   "outputs": [
    {
     "data": {
      "text/plain": [
       "negative    293\n",
       "positive    259\n",
       "Name: pred_label_roberta, dtype: int64"
      ]
     },
     "execution_count": 227,
     "metadata": {},
     "output_type": "execute_result"
    }
   ],
   "source": [
    "df['pred_label_roberta'].value_counts()"
   ]
  },
  {
   "cell_type": "code",
   "execution_count": 228,
   "id": "e9a2d283-69e3-470d-8582-8264c1d3ab31",
   "metadata": {
    "execution": {
     "iopub.execute_input": "2023-01-22T16:41:39.863104Z",
     "iopub.status.busy": "2023-01-22T16:41:39.862364Z",
     "iopub.status.idle": "2023-01-22T16:41:39.872131Z",
     "shell.execute_reply": "2023-01-22T16:41:39.871020Z",
     "shell.execute_reply.started": "2023-01-22T16:41:39.863055Z"
    },
    "tags": []
   },
   "outputs": [
    {
     "data": {
      "text/plain": [
       "0.8786231884057971"
      ]
     },
     "execution_count": 228,
     "metadata": {},
     "output_type": "execute_result"
    }
   ],
   "source": [
    "accuracy_score(df['ground_truth'], df['pred_label_roberta'])"
   ]
  },
  {
   "cell_type": "markdown",
   "id": "a3d967d0-25e4-4e68-9ff2-97d70ddeba81",
   "metadata": {},
   "source": [
    "Accuracy is much better. This may be because of the model architecture and fine-tuned dataset. \n",
    "I found a model that was specifically fine-tuned on crypto social media data, so trying that next. "
   ]
  },
  {
   "cell_type": "markdown",
   "id": "d245d8d5-07a5-4e44-a013-725931025d2c",
   "metadata": {},
   "source": [
    "## Test CryptoBert Sentiment Analysis\n",
    "\n",
    "Model source: https://huggingface.co/ElKulako/cryptobert\n",
    "\n",
    "This model is a BERTweet model (A pre-trained language roberta model for English Tweets) fine-tuned on crypto social media data. \n",
    "\n",
    "This model outputs bearish, neutral, and bullish sentiment labels. According to [this discussion](https://huggingface.co/ElKulako/cryptobert/discussions/2), accuracy is around 70%. "
   ]
  },
  {
   "cell_type": "code",
   "execution_count": null,
   "id": "0d6b21c3-7ac3-40ba-b7d7-8a57fdcbdb00",
   "metadata": {
    "execution": {
     "iopub.execute_input": "2023-01-21T21:15:27.400910Z",
     "iopub.status.busy": "2023-01-21T21:15:27.400549Z",
     "iopub.status.idle": "2023-01-21T21:15:33.343483Z",
     "shell.execute_reply": "2023-01-21T21:15:33.342733Z",
     "shell.execute_reply.started": "2023-01-21T21:15:27.400882Z"
    }
   },
   "outputs": [],
   "source": [
    "cryptobert_classifier = pipeline('sentiment-analysis', model=\"ElKulako/cryptobert\")"
   ]
  },
  {
   "cell_type": "code",
   "execution_count": 259,
   "id": "faa6ec8a-7caa-4c03-8266-236fe5f758f6",
   "metadata": {
    "execution": {
     "iopub.execute_input": "2023-01-22T17:19:52.828463Z",
     "iopub.status.busy": "2023-01-22T17:19:52.828084Z",
     "iopub.status.idle": "2023-01-22T17:20:13.126317Z",
     "shell.execute_reply": "2023-01-22T17:20:13.125440Z",
     "shell.execute_reply.started": "2023-01-22T17:19:52.828432Z"
    },
    "tags": []
   },
   "outputs": [],
   "source": [
    "df[['pred_label_crypto', 'pred_score_crypto']] = df.apply(lambda x: get_predictions(cryptobert_classifier, x, max_length=128), axis=1, result_type=\"expand\")"
   ]
  },
  {
   "cell_type": "code",
   "execution_count": 260,
   "id": "da09d71f-ba62-4328-b430-3c79545b7bd2",
   "metadata": {
    "execution": {
     "iopub.execute_input": "2023-01-22T17:20:13.129335Z",
     "iopub.status.busy": "2023-01-22T17:20:13.128547Z",
     "iopub.status.idle": "2023-01-22T17:20:13.135751Z",
     "shell.execute_reply": "2023-01-22T17:20:13.134265Z",
     "shell.execute_reply.started": "2023-01-22T17:20:13.129301Z"
    },
    "tags": []
   },
   "outputs": [],
   "source": [
    "df['pred_processed_label_crypto'] = df['pred_label_crypto'].apply(lambda x: 'positive' if x == 'bullish' else 'negative')"
   ]
  },
  {
   "cell_type": "code",
   "execution_count": 261,
   "id": "e68eb150-8128-4b47-ab37-386a3ce3e218",
   "metadata": {
    "execution": {
     "iopub.execute_input": "2023-01-22T17:20:13.138304Z",
     "iopub.status.busy": "2023-01-22T17:20:13.137875Z",
     "iopub.status.idle": "2023-01-22T17:20:13.149448Z",
     "shell.execute_reply": "2023-01-22T17:20:13.148006Z",
     "shell.execute_reply.started": "2023-01-22T17:20:13.138269Z"
    },
    "tags": []
   },
   "outputs": [
    {
     "data": {
      "text/plain": [
       "0.7572463768115942"
      ]
     },
     "execution_count": 261,
     "metadata": {},
     "output_type": "execute_result"
    }
   ],
   "source": [
    "accuracy_score(df['ground_truth'], df['pred_processed_label_crypto'])"
   ]
  },
  {
   "cell_type": "code",
   "execution_count": 262,
   "id": "d99aec7f-5860-4003-9fde-7f53185fe5fd",
   "metadata": {
    "execution": {
     "iopub.execute_input": "2023-01-22T17:20:38.923882Z",
     "iopub.status.busy": "2023-01-22T17:20:38.923290Z",
     "iopub.status.idle": "2023-01-22T17:20:38.929814Z",
     "shell.execute_reply": "2023-01-22T17:20:38.929067Z",
     "shell.execute_reply.started": "2023-01-22T17:20:38.923854Z"
    },
    "tags": []
   },
   "outputs": [
    {
     "data": {
      "text/plain": [
       "bullish    406\n",
       "bearish    146\n",
       "Name: pred_label_crypto, dtype: int64"
      ]
     },
     "execution_count": 262,
     "metadata": {},
     "output_type": "execute_result"
    }
   ],
   "source": [
    "df['pred_label_crypto'].value_counts()"
   ]
  },
  {
   "cell_type": "code",
   "execution_count": 263,
   "id": "92150e30-5680-43e5-985e-007574978c5a",
   "metadata": {
    "execution": {
     "iopub.execute_input": "2023-01-22T17:20:41.300852Z",
     "iopub.status.busy": "2023-01-22T17:20:41.300468Z",
     "iopub.status.idle": "2023-01-22T17:20:41.314037Z",
     "shell.execute_reply": "2023-01-22T17:20:41.313095Z",
     "shell.execute_reply.started": "2023-01-22T17:20:41.300824Z"
    },
    "tags": []
   },
   "outputs": [
    {
     "data": {
      "text/html": [
       "<div>\n",
       "<style scoped>\n",
       "    .dataframe tbody tr th:only-of-type {\n",
       "        vertical-align: middle;\n",
       "    }\n",
       "\n",
       "    .dataframe tbody tr th {\n",
       "        vertical-align: top;\n",
       "    }\n",
       "\n",
       "    .dataframe thead th {\n",
       "        text-align: right;\n",
       "    }\n",
       "</style>\n",
       "<table border=\"1\" class=\"dataframe\">\n",
       "  <thead>\n",
       "    <tr style=\"text-align: right;\">\n",
       "      <th></th>\n",
       "      <th>clean_text</th>\n",
       "      <th>ground_truth</th>\n",
       "      <th>pred_processed_label_crypto</th>\n",
       "      <th>pred_label_roberta</th>\n",
       "    </tr>\n",
       "  </thead>\n",
       "  <tbody>\n",
       "    <tr>\n",
       "      <th>5</th>\n",
       "      <td>or, how about this. terra was a bad investment because all cryptos operate as if they are ponzi schemes.\\n\\n</td>\n",
       "      <td>negative</td>\n",
       "      <td>positive</td>\n",
       "      <td>negative</td>\n",
       "    </tr>\n",
       "    <tr>\n",
       "      <th>6</th>\n",
       "      <td>His first company ticket monster was a major flop, which was the critical reason why I never touched that dog shit.</td>\n",
       "      <td>negative</td>\n",
       "      <td>positive</td>\n",
       "      <td>negative</td>\n",
       "    </tr>\n",
       "    <tr>\n",
       "      <th>8</th>\n",
       "      <td>Fuck Do Kwon and his 2.0 version</td>\n",
       "      <td>negative</td>\n",
       "      <td>positive</td>\n",
       "      <td>negative</td>\n",
       "    </tr>\n",
       "    <tr>\n",
       "      <th>12</th>\n",
       "      <td>Unpopular opinion: crypto sucks, criticism topic\\nPERSPECTIVE\\nBanks suck but crypto aint much better. Higly speculative and unstable. Just as much bullshit as there is on wallstreet. Leverage, shorting, futures, longs, market manipulation and what not. People gambling with their money.\\n\\nYour keys arn't really safe, what do you want to do, implement a chip in your arm? What if the chip breaks? Keep it digitally somewhere? Dig a hole in the ground? Most people keep it on centralised exchanges anyway. What if you die, it won't go to your relatives?\\n\\nIt fucks with your mental and emotional state too, because of the unstable nature of it. One day you think you have money, the next day 20% is gone. People who buy early are basicly just taking other peoples investment when they sell. Call it pyramid games. The space is flooding with scammers, annoying shilling shouting idiots and and what not.\\n\\nBitcoin and the likes are highly energy inefficient. Yes but look at the regular financial systems energy use you will say, blah blah....this is like saying u can dump your plastic in the river because there's a plastic soup already in the ocean. Yes here and there they use solar panels...well why not use them for more usefull things as they are costly to make. Yes but proof of stake you will say, yes...it's basicly being kept in the air by people that are again....gambling with their money. All these company's, can't they just build stuff without thousands of people throwing their money at them, hoping they will get rich temselves.\\n\\nBlockchains are cool in their decentralised way, but all the speculation on top of it...\\n\\nWhile everyone is shouting at digital coins, society remains a shithole. Salaries are low for most people, housing prices are still going through the roof. Crypto won't safe us. Wealthy people will get more wealthy at the cost of others, and some might get lucky..the lucky few who are in it early and take other peoples money when they finally cash out.\\n\\nSorry for the rant, but this is kind of how I'm starting to feel about the whole thing.</td>\n",
       "      <td>negative</td>\n",
       "      <td>positive</td>\n",
       "      <td>negative</td>\n",
       "    </tr>\n",
       "    <tr>\n",
       "      <th>14</th>\n",
       "      <td>No shit. Crypto isn't safe at all. Between the volatility, rugpulls, honeypots and other scams, if there's one thing we don't have is safety. Thus, the higher returns are what make this market survive.\\n\\n</td>\n",
       "      <td>negative</td>\n",
       "      <td>positive</td>\n",
       "      <td>negative</td>\n",
       "    </tr>\n",
       "    <tr>\n",
       "      <th>...</th>\n",
       "      <td>...</td>\n",
       "      <td>...</td>\n",
       "      <td>...</td>\n",
       "      <td>...</td>\n",
       "    </tr>\n",
       "    <tr>\n",
       "      <th>533</th>\n",
       "      <td>Not a store of value\\n\\nNot a currency\\n\\nNot a hedge against money printer\\n\\nWhat is it?\\n\\nI just want to understand current understanding aside from lowest effort \" ponzi / scam \" but truly i am at loss to understand and explain what function does bitcoin solve or is solving , because\\n\\nIts also carbon negative , toxic because coal mines are now running some mining operations and that sounds positively awful and very much seems like bitcoin is digital cigarette blowing fumes to plebs while letting easy cheap energy sources become stronghold for even more authoritarian rules ( Russia , Kazakhstan etc )\\n\\nSo what do you think is the point of bitcoin aside from speculative bubble? It looks like elaborate tulip mania the longer we dont answer them</td>\n",
       "      <td>negative</td>\n",
       "      <td>positive</td>\n",
       "      <td>negative</td>\n",
       "    </tr>\n",
       "    <tr>\n",
       "      <th>543</th>\n",
       "      <td>I've found that nearly all coins are either useless, or are only there to serve a purpose or problem that the other coins themselves create. Like governance tokens - don't need those if no crypto. Proctopcs where you can lend crypto, so others can borrow crypto, so they can ... Buy crypto.\\n\\nIt's a nearly fully self-referential and closed loop system. I real,Ed that, got ros of all ambitions and dreams about it, and just be a cold blooded trader. It helped.</td>\n",
       "      <td>negative</td>\n",
       "      <td>positive</td>\n",
       "      <td>negative</td>\n",
       "    </tr>\n",
       "    <tr>\n",
       "      <th>548</th>\n",
       "      <td>More like 99.9%. Out of 20000 coins thats 20. Im still being very generous. My honest belief is that about 5 coins have actual utility.\\n\\n</td>\n",
       "      <td>negative</td>\n",
       "      <td>positive</td>\n",
       "      <td>positive</td>\n",
       "    </tr>\n",
       "    <tr>\n",
       "      <th>550</th>\n",
       "      <td>Think the hype gone now we stuck holding bags</td>\n",
       "      <td>negative</td>\n",
       "      <td>positive</td>\n",
       "      <td>negative</td>\n",
       "    </tr>\n",
       "    <tr>\n",
       "      <th>551</th>\n",
       "      <td>I didn’t invest in XRP when it crashed because it was a much riskier option than other projects at the time. Doesn’t make sense to invest into something that is having issues. Almost all cryptos are going to go up in a bull market. I don’t feel bad at all for not investing in XRP. Not one bit.</td>\n",
       "      <td>negative</td>\n",
       "      <td>positive</td>\n",
       "      <td>negative</td>\n",
       "    </tr>\n",
       "  </tbody>\n",
       "</table>\n",
       "<p>122 rows × 4 columns</p>\n",
       "</div>"
      ],
      "text/plain": [
       "                                                                                                                                                                                                                                                                                                                                                                                                                                                                                                                                                                                                                                                                                                                                                                                                                                                                                                                                                                                                                                                                                                                                                                                                                                                                                                                                                                                                                                                                                                                                                                                                                                                                                                                                                                                                                                                                                                                                                                                                                                                                                                                                                                    clean_text  \\\n",
       "5                                                                                                                                                                                                                                                                                                                                                                                                                                                                                                                                                                                                                                                                                                                                                                                                                                                                                                                                                                                                                                                                                                                                                                                                                                                                                                                                                                                                                                                                                                                                                                                                                                                                                                                                                                                                                                                                                                                                                                                                                                                                 or, how about this. terra was a bad investment because all cryptos operate as if they are ponzi schemes.\\n\\n   \n",
       "6                                                                                                                                                                                                                                                                                                                                                                                                                                                                                                                                                                                                                                                                                                                                                                                                                                                                                                                                                                                                                                                                                                                                                                                                                                                                                                                                                                                                                                                                                                                                                                                                                                                                                                                                                                                                                                                                                                                                                                                                                                                          His first company ticket monster was a major flop, which was the critical reason why I never touched that dog shit.   \n",
       "8                                                                                                                                                                                                                                                                                                                                                                                                                                                                                                                                                                                                                                                                                                                                                                                                                                                                                                                                                                                                                                                                                                                                                                                                                                                                                                                                                                                                                                                                                                                                                                                                                                                                                                                                                                                                                                                                                                                                                                                                                                                                                                                                             Fuck Do Kwon and his 2.0 version   \n",
       "12   Unpopular opinion: crypto sucks, criticism topic\\nPERSPECTIVE\\nBanks suck but crypto aint much better. Higly speculative and unstable. Just as much bullshit as there is on wallstreet. Leverage, shorting, futures, longs, market manipulation and what not. People gambling with their money.\\n\\nYour keys arn't really safe, what do you want to do, implement a chip in your arm? What if the chip breaks? Keep it digitally somewhere? Dig a hole in the ground? Most people keep it on centralised exchanges anyway. What if you die, it won't go to your relatives?\\n\\nIt fucks with your mental and emotional state too, because of the unstable nature of it. One day you think you have money, the next day 20% is gone. People who buy early are basicly just taking other peoples investment when they sell. Call it pyramid games. The space is flooding with scammers, annoying shilling shouting idiots and and what not.\\n\\nBitcoin and the likes are highly energy inefficient. Yes but look at the regular financial systems energy use you will say, blah blah....this is like saying u can dump your plastic in the river because there's a plastic soup already in the ocean. Yes here and there they use solar panels...well why not use them for more usefull things as they are costly to make. Yes but proof of stake you will say, yes...it's basicly being kept in the air by people that are again....gambling with their money. All these company's, can't they just build stuff without thousands of people throwing their money at them, hoping they will get rich temselves.\\n\\nBlockchains are cool in their decentralised way, but all the speculation on top of it...\\n\\nWhile everyone is shouting at digital coins, society remains a shithole. Salaries are low for most people, housing prices are still going through the roof. Crypto won't safe us. Wealthy people will get more wealthy at the cost of others, and some might get lucky..the lucky few who are in it early and take other peoples money when they finally cash out.\\n\\nSorry for the rant, but this is kind of how I'm starting to feel about the whole thing.   \n",
       "14                                                                                                                                                                                                                                                                                                                                                                                                                                                                                                                                                                                                                                                                                                                                                                                                                                                                                                                                                                                                                                                                                                                                                                                                                                                                                                                                                                                                                                                                                                                                                                                                                                                                                                                                                                                                                                                                                                                                                               No shit. Crypto isn't safe at all. Between the volatility, rugpulls, honeypots and other scams, if there's one thing we don't have is safety. Thus, the higher returns are what make this market survive.\\n\\n   \n",
       "..                                                                                                                                                                                                                                                                                                                                                                                                                                                                                                                                                                                                                                                                                                                                                                                                                                                                                                                                                                                                                                                                                                                                                                                                                                                                                                                                                                                                                                                                                                                                                                                                                                                                                                                                                                                                                                                                                                                                                                                                                                                                                                                                                                         ...   \n",
       "533                                                                                                                                                                                                                                                                                                                                                                                                                                                                                                                                                                                                                                                                                                                                                                                                                                                                                                                                                                                                                                                                                                                                                                                                                                                                                                                                                                                    Not a store of value\\n\\nNot a currency\\n\\nNot a hedge against money printer\\n\\nWhat is it?\\n\\nI just want to understand current understanding aside from lowest effort \" ponzi / scam \" but truly i am at loss to understand and explain what function does bitcoin solve or is solving , because\\n\\nIts also carbon negative , toxic because coal mines are now running some mining operations and that sounds positively awful and very much seems like bitcoin is digital cigarette blowing fumes to plebs while letting easy cheap energy sources become stronghold for even more authoritarian rules ( Russia , Kazakhstan etc )\\n\\nSo what do you think is the point of bitcoin aside from speculative bubble? It looks like elaborate tulip mania the longer we dont answer them   \n",
       "543                                                                                                                                                                                                                                                                                                                                                                                                                                                                                                                                                                                                                                                                                                                                                                                                                                                                                                                                                                                                                                                                                                                                                                                                                                                                                                                                                                                                                                                                                                                                                                                                                                                                                             I've found that nearly all coins are either useless, or are only there to serve a purpose or problem that the other coins themselves create. Like governance tokens - don't need those if no crypto. Proctopcs where you can lend crypto, so others can borrow crypto, so they can ... Buy crypto.\\n\\nIt's a nearly fully self-referential and closed loop system. I real,Ed that, got ros of all ambitions and dreams about it, and just be a cold blooded trader. It helped.   \n",
       "548                                                                                                                                                                                                                                                                                                                                                                                                                                                                                                                                                                                                                                                                                                                                                                                                                                                                                                                                                                                                                                                                                                                                                                                                                                                                                                                                                                                                                                                                                                                                                                                                                                                                                                                                                                                                                                                                                                                                                                                                                                More like 99.9%. Out of 20000 coins thats 20. Im still being very generous. My honest belief is that about 5 coins have actual utility.\\n\\n   \n",
       "550                                                                                                                                                                                                                                                                                                                                                                                                                                                                                                                                                                                                                                                                                                                                                                                                                                                                                                                                                                                                                                                                                                                                                                                                                                                                                                                                                                                                                                                                                                                                                                                                                                                                                                                                                                                                                                                                                                                                                                                                                                                                                                                              Think the hype gone now we stuck holding bags   \n",
       "551                                                                                                                                                                                                                                                                                                                                                                                                                                                                                                                                                                                                                                                                                                                                                                                                                                                                                                                                                                                                                                                                                                                                                                                                                                                                                                                                                                                                                                                                                                                                                                                                                                                                                                                                                                                                                                                                     I didn’t invest in XRP when it crashed because it was a much riskier option than other projects at the time. Doesn’t make sense to invest into something that is having issues. Almost all cryptos are going to go up in a bull market. I don’t feel bad at all for not investing in XRP. Not one bit.   \n",
       "\n",
       "    ground_truth pred_processed_label_crypto pred_label_roberta  \n",
       "5       negative                    positive           negative  \n",
       "6       negative                    positive           negative  \n",
       "8       negative                    positive           negative  \n",
       "12      negative                    positive           negative  \n",
       "14      negative                    positive           negative  \n",
       "..           ...                         ...                ...  \n",
       "533     negative                    positive           negative  \n",
       "543     negative                    positive           negative  \n",
       "548     negative                    positive           positive  \n",
       "550     negative                    positive           negative  \n",
       "551     negative                    positive           negative  \n",
       "\n",
       "[122 rows x 4 columns]"
      ]
     },
     "execution_count": 263,
     "metadata": {},
     "output_type": "execute_result"
    }
   ],
   "source": [
    "# Check negative sentiment mislabelled as positive\n",
    "df[(df['ground_truth'] == 'negative') & (df['pred_processed_label_crypto'] == 'positive')][['clean_text', 'ground_truth', 'pred_processed_label_crypto', 'pred_label_roberta']]"
   ]
  },
  {
   "cell_type": "markdown",
   "id": "320e4ed6-bfb1-4a7a-b3de-d6e3b84b6fc5",
   "metadata": {},
   "source": [
    "## Quick Prediction Response Time Check"
   ]
  },
  {
   "cell_type": "code",
   "execution_count": 254,
   "id": "954168ac-f03f-4261-82e1-81c490835af0",
   "metadata": {
    "execution": {
     "iopub.execute_input": "2023-01-22T17:06:15.661471Z",
     "iopub.status.busy": "2023-01-22T17:06:15.660727Z",
     "iopub.status.idle": "2023-01-22T17:06:15.669124Z",
     "shell.execute_reply": "2023-01-22T17:06:15.668302Z",
     "shell.execute_reply.started": "2023-01-22T17:06:15.661440Z"
    },
    "tags": []
   },
   "outputs": [],
   "source": [
    "longest_reddit_comment = 'why I don\\'t like crypto, ethically, financially and technologically:\\n\\nproof of work mining (e.g. Bitcoin) wastes ungodly amounts of electricity (until the world is 100% renewables mining displaces more useful work and thus creates emissions) and computing capacity\\nproof of space is the same but for making the world a worse place by driving up storage costs for everybody\\ncoin speculation is a massive ponzi scheme and no crypto fan acknowledges this\\nthe e.g. bitcoin network throughput is ~dozens of qps which would merely be hilarious if it wasn\\'t burning as much coal as Australia\\njust on pure waste: Bitcoin production is estimated to generate between 22 and 22.9 million metric tons of carbon dioxide emissions a year, or between the levels produced by Jordan and Sri Lanka, a 2019 study in scientific journal Joule found. (source) - ie this game is an entire additional country of environmental damage for ~no useful gain\\nno one has found an actual use for any of it except for online drug dealing (which requires niche coins since Bitcoin is massive distributed public ledger)\\nthe level of market manipulation and accounting fraud by eg Tether (and now USD \"coin\" admitted lying about the backing) would normally send people to jail but has for some reason got a free pass\\nthe clueless marketing by fanboys who only hope to enrich themselves by creating another layer to the pyramid\\nthe endlessly stupid projects it has spawned where blockchain is seen as a solution to anything aside from the niche case of \"distributed tamper evident journal\"\\nit has single handedly made mass international ransomware a viable business model by allowing a way to receive cash outside the banking system\\nthe general enablement of all sorts of scams, e.g. the endless kids on this very subreddit promoting \"12% crypto savings accounts\"\\nIt isn\\'t nearly as secure as people think it is. Any determined state actor could subvert the network.\\nDeflation isn\\'t actually a good thing in a currency. It ultimately favours the wealthy who can hold and dont need to spend.\\nMining (proof of stake or work) allow the wealthy to invest in mining equipment to control or dominate the market.\\nUltimately, no government on earth is going to give up its monetary policy as that is a key lever of control.\\nessentially everyone involved at this point is just trying to hustle the next generation - any hope any of it would serve as a useful technological or financial system has gone)\\nthe massive mis-represnetaion of how bitcoin in particular works, despite claims, it does not offer any of the following:\\nanonymity - the entire blockchain is public and diligently recorded on millions of nodes\\ndistributed freedom - a small number of mining cartels control almost all the hash power and normal people use one of ten crypto currency exchanges for everything anyway\\nunencumbered transactions - it\\'s comically slow and inefficient\\nconvenient purchases - wallets are unwieldly for normal people, no reversibility\\nstore of value - volatility is hilarious and all anyone cares about us BTC:USD\\nthings I do like about cryptocurrency:\\n\\nmonero is pretty clever\\nethereum smart contracts are pretty scifi\\nwatching people learn 5000 years of history of why we have banking regulation in a single decade has been fun\\nthere will be some massive financial catastrophes to watch that will mostly only harm people who did not read my previous list\\nthe earlier state of every single exchange either getting robbed or exit scamming their own fanboys was quite funny in retrospect\\n(thx to u/TwentyCharactersShor for some extra items).\\n\\nI used to just think cryptocurrency was a fun hack but a bad idea for the mainstream, but I\\'m now pretty convinced it should be banned purely on resource grounds, since it seems impossible to force the externalities to be addressed\\n\\nIt\\'s possible that someone will invent a cryptocurrency that\\'s efficient to a level that it\\'s not morally reprehensible to use, but how would it take off? the existing cryptocurrency interests want bitcoin to succeed purely because they\\'re the top of the pyramid and also selling the shovels and so now anything new has to compete aginst the real financial sector and the entrenched cryptocurrency players.'\n",
    "median_reddit_comment = 'His first company ticket monster was a major flop, which was the critical reason why I never touched that dog shit.'"
   ]
  },
  {
   "cell_type": "code",
   "execution_count": 164,
   "id": "70e1a25b-e445-41eb-8a94-794c30cae797",
   "metadata": {
    "execution": {
     "iopub.execute_input": "2023-01-21T21:18:59.372265Z",
     "iopub.status.busy": "2023-01-21T21:18:59.371919Z",
     "iopub.status.idle": "2023-01-21T21:19:01.515688Z",
     "shell.execute_reply": "2023-01-21T21:19:01.514830Z",
     "shell.execute_reply.started": "2023-01-21T21:18:59.372237Z"
    },
    "tags": []
   },
   "outputs": [
    {
     "name": "stdout",
     "output_type": "stream",
     "text": [
      "188 ms ± 15.3 ms per loop (mean ± std. dev. of 10 runs, 1 loop each)\n"
     ]
    }
   ],
   "source": [
    "%%timeit -r 10\n",
    "distilbert_classifier(longest_reddit_comment, truncation=True)"
   ]
  },
  {
   "cell_type": "code",
   "execution_count": 165,
   "id": "d3d393da-4ca9-47ae-bf44-b0c24f3c44d8",
   "metadata": {
    "execution": {
     "iopub.execute_input": "2023-01-21T21:19:01.518099Z",
     "iopub.status.busy": "2023-01-21T21:19:01.517772Z",
     "iopub.status.idle": "2023-01-21T21:19:05.874042Z",
     "shell.execute_reply": "2023-01-21T21:19:05.873275Z",
     "shell.execute_reply.started": "2023-01-21T21:19:01.518054Z"
    },
    "tags": []
   },
   "outputs": [
    {
     "name": "stdout",
     "output_type": "stream",
     "text": [
      "393 ms ± 16.4 ms per loop (mean ± std. dev. of 10 runs, 1 loop each)\n"
     ]
    }
   ],
   "source": [
    "%%timeit -r 10\n",
    "roberta_classifier(longest_reddit_comment, truncation=True, max_length=511)"
   ]
  },
  {
   "cell_type": "code",
   "execution_count": 256,
   "id": "82d95ed9-d1f3-4693-9fb6-c3790190b509",
   "metadata": {
    "execution": {
     "iopub.execute_input": "2023-01-22T17:06:25.337290Z",
     "iopub.status.busy": "2023-01-22T17:06:25.336939Z",
     "iopub.status.idle": "2023-01-22T17:06:29.593651Z",
     "shell.execute_reply": "2023-01-22T17:06:29.592827Z",
     "shell.execute_reply.started": "2023-01-22T17:06:25.337263Z"
    },
    "tags": []
   },
   "outputs": [
    {
     "name": "stdout",
     "output_type": "stream",
     "text": [
      "382 ms ± 16 ms per loop (mean ± std. dev. of 10 runs, 1 loop each)\n"
     ]
    }
   ],
   "source": [
    "%%timeit -r 10\n",
    "cryptobert_classifier(longest_reddit_comment, truncation=True, max_length=511)"
   ]
  },
  {
   "cell_type": "code",
   "execution_count": 173,
   "id": "61d88302-f1e0-492b-86ad-17631799ff61",
   "metadata": {
    "execution": {
     "iopub.execute_input": "2023-01-21T21:32:20.857976Z",
     "iopub.status.busy": "2023-01-21T21:32:20.857095Z",
     "iopub.status.idle": "2023-01-21T21:32:22.656713Z",
     "shell.execute_reply": "2023-01-21T21:32:22.655840Z",
     "shell.execute_reply.started": "2023-01-21T21:32:20.857945Z"
    },
    "tags": []
   },
   "outputs": [
    {
     "name": "stdout",
     "output_type": "stream",
     "text": [
      "15.6 ms ± 633 µs per loop (mean ± std. dev. of 10 runs, 10 loops each)\n"
     ]
    }
   ],
   "source": [
    "%%timeit -r 10\n",
    "# 1000ms / 15.6ms = 64 comments / sec\n",
    "distilbert_classifier(median_reddit_comment, truncation=True)"
   ]
  },
  {
   "cell_type": "markdown",
   "id": "6bbfca6b-13f0-4996-b70a-5eedd48dc112",
   "metadata": {
    "tags": []
   },
   "source": [
    "## Summary\n",
    "\n",
    "Based on [Sentiment Analysis on SST2 data](https://paperswithcode.com/sota/sentiment-analysis-on-sst-2-binary), state of the art models are:\n",
    "1. Roberta\n",
    "2. Bert large\n",
    "3. Distilbert\n",
    "4. Bert base\n",
    "\n",
    "### Accuracy on given crypto dataset\n",
    "1. Distilbert - Accuracy is 71.920%\n",
    "2. Roberta base fine-tuned on tweets sentiment - Accuracy is 87.862%\n",
    "3. CryptoBert, bertweet model fine-tuned on crypto sentiment - Accuracy is 75.724%\n",
    "\n",
    "Distilbert's prediction speed is **2x** faster than the other models. \n",
    "\n",
    "### Next Steps\n",
    "1. Create training dataset with https://www.kaggle.com/datasets/leukipp/reddit-crypto-data and any other readily available crypto related reddit comments. \n",
    "2. Create weak labels with best sentiment analysis model --> Roberta. "
   ]
  }
 ],
 "metadata": {
  "kernelspec": {
   "display_name": "Python 3 (ipykernel)",
   "language": "python",
   "name": "python3"
  },
  "language_info": {
   "codemirror_mode": {
    "name": "ipython",
    "version": 3
   },
   "file_extension": ".py",
   "mimetype": "text/x-python",
   "name": "python",
   "nbconvert_exporter": "python",
   "pygments_lexer": "ipython3",
   "version": "3.9.16"
  }
 },
 "nbformat": 4,
 "nbformat_minor": 5
}
