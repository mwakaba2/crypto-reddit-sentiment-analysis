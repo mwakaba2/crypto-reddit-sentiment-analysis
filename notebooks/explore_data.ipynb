{
 "cells": [
  {
   "cell_type": "markdown",
   "id": "674541b4-9508-4bc4-b25e-d7fa12ce9733",
   "metadata": {},
   "source": [
    "# Data Exploration\n",
    "\n",
    "Goal is to analyze the given crypto related comments dataset and look for any quirks and characteristics. "
   ]
  },
  {
   "cell_type": "code",
   "execution_count": 1,
   "id": "2930b16d-412a-43cd-878a-cabf504e86c3",
   "metadata": {
    "execution": {
     "iopub.execute_input": "2023-01-23T22:00:30.431477Z",
     "iopub.status.busy": "2023-01-23T22:00:30.425246Z",
     "iopub.status.idle": "2023-01-23T22:00:31.202415Z",
     "shell.execute_reply": "2023-01-23T22:00:31.201351Z",
     "shell.execute_reply.started": "2023-01-23T22:00:30.430535Z"
    },
    "tags": []
   },
   "outputs": [],
   "source": [
    "import re\n",
    "\n",
    "import emoji\n",
    "import pandas as pd\n",
    "\n",
    "pd.set_option('max_colwidth', None)"
   ]
  },
  {
   "cell_type": "code",
   "execution_count": 2,
   "id": "82f06a25-beb7-4d0d-99f7-240dc35b43e4",
   "metadata": {
    "execution": {
     "iopub.execute_input": "2023-01-23T22:00:31.357865Z",
     "iopub.status.busy": "2023-01-23T22:00:31.357472Z",
     "iopub.status.idle": "2023-01-23T22:00:31.378726Z",
     "shell.execute_reply": "2023-01-23T22:00:31.377929Z",
     "shell.execute_reply.started": "2023-01-23T22:00:31.357838Z"
    },
    "tags": []
   },
   "outputs": [],
   "source": [
    "crypto_sentiment_dataset_path = '../datasets/crypto_reddit_sentiment.csv'\n",
    "df = pd.read_csv(crypto_sentiment_dataset_path)"
   ]
  },
  {
   "cell_type": "code",
   "execution_count": 11,
   "id": "6063f678-159b-4243-b1be-73ae0ed0c07c",
   "metadata": {
    "execution": {
     "iopub.execute_input": "2023-01-23T22:02:28.581879Z",
     "iopub.status.busy": "2023-01-23T22:02:28.581531Z",
     "iopub.status.idle": "2023-01-23T22:02:28.595533Z",
     "shell.execute_reply": "2023-01-23T22:02:28.594739Z",
     "shell.execute_reply.started": "2023-01-23T22:02:28.581851Z"
    }
   },
   "outputs": [
    {
     "data": {
      "text/html": [
       "<div>\n",
       "<style scoped>\n",
       "    .dataframe tbody tr th:only-of-type {\n",
       "        vertical-align: middle;\n",
       "    }\n",
       "\n",
       "    .dataframe tbody tr th {\n",
       "        vertical-align: top;\n",
       "    }\n",
       "\n",
       "    .dataframe thead th {\n",
       "        text-align: right;\n",
       "    }\n",
       "</style>\n",
       "<table border=\"1\" class=\"dataframe\">\n",
       "  <thead>\n",
       "    <tr style=\"text-align: right;\">\n",
       "      <th></th>\n",
       "      <th>worker_id</th>\n",
       "      <th>is_reviewed</th>\n",
       "      <th>review_score</th>\n",
       "      <th>Comment Text</th>\n",
       "      <th>Sentiment</th>\n",
       "      <th>Reddit URL</th>\n",
       "    </tr>\n",
       "  </thead>\n",
       "  <tbody>\n",
       "    <tr>\n",
       "      <th>0</th>\n",
       "      <td>XYNN2Y4VCF3G</td>\n",
       "      <td>False</td>\n",
       "      <td>NaN</td>\n",
       "      <td>I bought 2200 at the ico, at 0.50$ per coin. Hold everything and sold it 3 months ago and it helped me to buy a bigger house.</td>\n",
       "      <td>Positive</td>\n",
       "      <td>https://www.reddit.com/r/Avax/comments/uzggar/comment/iabc390/?utm_source=reddit&amp;utm_medium=web2x&amp;context=3</td>\n",
       "    </tr>\n",
       "    <tr>\n",
       "      <th>1</th>\n",
       "      <td>DR6XNZMT9KRH</td>\n",
       "      <td>False</td>\n",
       "      <td>NaN</td>\n",
       "      <td>Harmony one , algorand , Cardano, solana , vechain gonna fly if there is ever a next bull market\\n\\nOtherwise just buy and stack satoshis</td>\n",
       "      <td>Positive</td>\n",
       "      <td>https://www.reddit.com/r/CryptoCurrency/comments/v09a1p/comment/iag2c78/?utm_source=reddit&amp;utm_medium=web2x&amp;context=3</td>\n",
       "    </tr>\n",
       "    <tr>\n",
       "      <th>2</th>\n",
       "      <td>9FCQGMYD4A42</td>\n",
       "      <td>False</td>\n",
       "      <td>NaN</td>\n",
       "      <td>Honestly, after reading this post and many of the responses, I have to conclude most of the crypto-space is totally fucked.\\n\\nThe consept of crypto has been entirely lost, waves of noobs arrive on crypto island, and instead of revelling in the freedom, do everything they can to plan their way to get back off of the island.</td>\n",
       "      <td>Negative</td>\n",
       "      <td>https://www.reddit.com/r/CryptoCurrency/comments/uijvn6/its_annoying_to_see_bitcoin_follows_the_stock/</td>\n",
       "    </tr>\n",
       "    <tr>\n",
       "      <th>3</th>\n",
       "      <td>QEZAEMV2WF9D</td>\n",
       "      <td>False</td>\n",
       "      <td>NaN</td>\n",
       "      <td>In bear market is where money is made. I Will continue to DCA to the assets i believe.</td>\n",
       "      <td>Positive</td>\n",
       "      <td>https://www.reddit.com/r/CryptoCurrency/comments/uzwmf6/comment/iacwnpv/?utm_source=reddit&amp;utm_medium=web2x&amp;context=3</td>\n",
       "    </tr>\n",
       "    <tr>\n",
       "      <th>4</th>\n",
       "      <td>Z7J7W3XCP4XC</td>\n",
       "      <td>False</td>\n",
       "      <td>NaN</td>\n",
       "      <td>Funny how people think Bitcoin's risk is comparable to stocks. A lot of these crypto \"investors\" are gonna learn the hard way sooner or later.</td>\n",
       "      <td>Negative</td>\n",
       "      <td>https://www.reddit.com/r/investing/comments/um4inc/bitcoin_tumbles_more_than_50_below_its_alltime/</td>\n",
       "    </tr>\n",
       "  </tbody>\n",
       "</table>\n",
       "</div>"
      ],
      "text/plain": [
       "      worker_id  is_reviewed  review_score  \\\n",
       "0  XYNN2Y4VCF3G        False           NaN   \n",
       "1  DR6XNZMT9KRH        False           NaN   \n",
       "2  9FCQGMYD4A42        False           NaN   \n",
       "3  QEZAEMV2WF9D        False           NaN   \n",
       "4  Z7J7W3XCP4XC        False           NaN   \n",
       "\n",
       "                                                                                                                                                                                                                                                                                                                            Comment Text  \\\n",
       "0                                                                                                                                                                                                          I bought 2200 at the ico, at 0.50$ per coin. Hold everything and sold it 3 months ago and it helped me to buy a bigger house.   \n",
       "1                                                                                                                                                                                              Harmony one , algorand , Cardano, solana , vechain gonna fly if there is ever a next bull market\\n\\nOtherwise just buy and stack satoshis   \n",
       "2  Honestly, after reading this post and many of the responses, I have to conclude most of the crypto-space is totally fucked.\\n\\nThe consept of crypto has been entirely lost, waves of noobs arrive on crypto island, and instead of revelling in the freedom, do everything they can to plan their way to get back off of the island.   \n",
       "3                                                                                                                                                                                                                                                 In bear market is where money is made. I Will continue to DCA to the assets i believe.   \n",
       "4                                                                                                                                                                                         Funny how people think Bitcoin's risk is comparable to stocks. A lot of these crypto \"investors\" are gonna learn the hard way sooner or later.   \n",
       "\n",
       "  Sentiment  \\\n",
       "0  Positive   \n",
       "1  Positive   \n",
       "2  Negative   \n",
       "3  Positive   \n",
       "4  Negative   \n",
       "\n",
       "                                                                                                              Reddit URL  \n",
       "0            https://www.reddit.com/r/Avax/comments/uzggar/comment/iabc390/?utm_source=reddit&utm_medium=web2x&context=3  \n",
       "1  https://www.reddit.com/r/CryptoCurrency/comments/v09a1p/comment/iag2c78/?utm_source=reddit&utm_medium=web2x&context=3  \n",
       "2                 https://www.reddit.com/r/CryptoCurrency/comments/uijvn6/its_annoying_to_see_bitcoin_follows_the_stock/  \n",
       "3  https://www.reddit.com/r/CryptoCurrency/comments/uzwmf6/comment/iacwnpv/?utm_source=reddit&utm_medium=web2x&context=3  \n",
       "4                     https://www.reddit.com/r/investing/comments/um4inc/bitcoin_tumbles_more_than_50_below_its_alltime/  "
      ]
     },
     "execution_count": 11,
     "metadata": {},
     "output_type": "execute_result"
    }
   ],
   "source": [
    "df.head()"
   ]
  },
  {
   "cell_type": "markdown",
   "id": "20d7cf22-2e2f-4ef5-8fa3-c91ce334039a",
   "metadata": {
    "execution": {
     "iopub.execute_input": "2023-01-23T22:00:50.276323Z",
     "iopub.status.busy": "2023-01-23T22:00:50.275757Z",
     "iopub.status.idle": "2023-01-23T22:00:50.279390Z",
     "shell.execute_reply": "2023-01-23T22:00:50.278652Z",
     "shell.execute_reply.started": "2023-01-23T22:00:50.276296Z"
    }
   },
   "source": [
    "### How many comments are in the dataset?"
   ]
  },
  {
   "cell_type": "code",
   "execution_count": 5,
   "id": "96ca358d-de0e-43fd-8709-0b5bfe784ef1",
   "metadata": {
    "execution": {
     "iopub.execute_input": "2023-01-23T22:00:55.141609Z",
     "iopub.status.busy": "2023-01-23T22:00:55.141295Z",
     "iopub.status.idle": "2023-01-23T22:00:55.146304Z",
     "shell.execute_reply": "2023-01-23T22:00:55.145603Z",
     "shell.execute_reply.started": "2023-01-23T22:00:55.141582Z"
    },
    "tags": []
   },
   "outputs": [
    {
     "data": {
      "text/plain": [
       "562"
      ]
     },
     "execution_count": 5,
     "metadata": {},
     "output_type": "execute_result"
    }
   ],
   "source": [
    "len(df)"
   ]
  },
  {
   "cell_type": "markdown",
   "id": "f3be6a9b-3a81-4806-8b97-051ea42246b3",
   "metadata": {
    "execution": {
     "iopub.execute_input": "2023-01-23T22:01:05.952826Z",
     "iopub.status.busy": "2023-01-23T22:01:05.952513Z",
     "iopub.status.idle": "2023-01-23T22:01:05.955803Z",
     "shell.execute_reply": "2023-01-23T22:01:05.955184Z",
     "shell.execute_reply.started": "2023-01-23T22:01:05.952802Z"
    }
   },
   "source": [
    "### Are there duplicates?"
   ]
  },
  {
   "cell_type": "code",
   "execution_count": 7,
   "id": "5323c2c0-4c8f-4a27-89b0-e4c95bb90c1c",
   "metadata": {
    "execution": {
     "iopub.execute_input": "2023-01-23T22:01:22.072319Z",
     "iopub.status.busy": "2023-01-23T22:01:22.071966Z",
     "iopub.status.idle": "2023-01-23T22:01:22.087811Z",
     "shell.execute_reply": "2023-01-23T22:01:22.087173Z",
     "shell.execute_reply.started": "2023-01-23T22:01:22.072293Z"
    },
    "tags": []
   },
   "outputs": [
    {
     "data": {
      "text/plain": [
       "There has been three fraudulent scam coins from Do Kwon and the Terra team..\\n\\nBasic Coin (look it up).. his first failed stablecoin where people lost everything\\n\\nLuna v. 1\\n\\nUST\\n\\nand now the Luna v. 2 scam\\n\\nThis guy is going to fucking ruin crypto for everyone. This is one case where the scammers (Do and Terra) need to be held accountable and made an example out of hopefully.    2\n",
       "good time to accumulate                                                                                                                                                                                                                                                                                                                                                                                2\n",
       "It's going on sale! I'm gonna get so fat on bitcoin that when I sell it people are going to call me a whale!                                                                                                                                                                                                                                                                                           2\n",
       "BTC should be in everyone’s Portfolio                                                                                                                                                                                                                                                                                                                                                                  2\n",
       "The record we didn't need.                                                                                                                                                                                                                                                                                                                                                                             2\n",
       "Name: Comment Text, dtype: int64"
      ]
     },
     "execution_count": 7,
     "metadata": {},
     "output_type": "execute_result"
    }
   ],
   "source": [
    "df['Comment Text'].value_counts()[:5]"
   ]
  },
  {
   "cell_type": "markdown",
   "id": "e67357ca-a923-47ba-af76-78b44e8aed74",
   "metadata": {},
   "source": [
    "### There are duplicates in the comment text, so let's remove them and calculate dataset length again."
   ]
  },
  {
   "cell_type": "code",
   "execution_count": 9,
   "id": "a48f5dc0-9b9e-4edf-b8c0-a3c0921bec21",
   "metadata": {
    "execution": {
     "iopub.execute_input": "2023-01-23T22:02:17.123653Z",
     "iopub.status.busy": "2023-01-23T22:02:17.122936Z",
     "iopub.status.idle": "2023-01-23T22:02:17.128418Z",
     "shell.execute_reply": "2023-01-23T22:02:17.127084Z",
     "shell.execute_reply.started": "2023-01-23T22:02:17.123624Z"
    },
    "tags": []
   },
   "outputs": [],
   "source": [
    "df = df.drop_duplicates(subset='Comment Text')"
   ]
  },
  {
   "cell_type": "code",
   "execution_count": 10,
   "id": "538c0a69-282c-497a-8f7e-e4d117902d92",
   "metadata": {
    "execution": {
     "iopub.execute_input": "2023-01-23T22:02:17.294624Z",
     "iopub.status.busy": "2023-01-23T22:02:17.294282Z",
     "iopub.status.idle": "2023-01-23T22:02:17.299783Z",
     "shell.execute_reply": "2023-01-23T22:02:17.299102Z",
     "shell.execute_reply.started": "2023-01-23T22:02:17.294597Z"
    },
    "tags": []
   },
   "outputs": [
    {
     "data": {
      "text/plain": [
       "552"
      ]
     },
     "execution_count": 10,
     "metadata": {},
     "output_type": "execute_result"
    }
   ],
   "source": [
    "len(df)"
   ]
  },
  {
   "cell_type": "markdown",
   "id": "d96f82e7-335d-4feb-a2dd-87415e750e5a",
   "metadata": {},
   "source": [
    "### What subreddits are the comments from?"
   ]
  },
  {
   "cell_type": "code",
   "execution_count": 12,
   "id": "cfeac75f-a60b-4721-b10a-65040e0d0007",
   "metadata": {
    "execution": {
     "iopub.execute_input": "2023-01-23T22:03:17.555910Z",
     "iopub.status.busy": "2023-01-23T22:03:17.555575Z",
     "iopub.status.idle": "2023-01-23T22:03:17.559559Z",
     "shell.execute_reply": "2023-01-23T22:03:17.558765Z",
     "shell.execute_reply.started": "2023-01-23T22:03:17.555881Z"
    },
    "tags": []
   },
   "outputs": [],
   "source": [
    "def extract_reddit_community(url):\n",
    "    community_search = re.search('reddit.com\\/r\\/(\\w+)\\/', url, re.IGNORECASE)\n",
    "    return community_search.group(1)"
   ]
  },
  {
   "cell_type": "code",
   "execution_count": 13,
   "id": "103c801e-e783-48ec-bc59-e39295e9f984",
   "metadata": {
    "execution": {
     "iopub.execute_input": "2023-01-23T22:03:20.348304Z",
     "iopub.status.busy": "2023-01-23T22:03:20.347726Z",
     "iopub.status.idle": "2023-01-23T22:03:20.354756Z",
     "shell.execute_reply": "2023-01-23T22:03:20.353985Z",
     "shell.execute_reply.started": "2023-01-23T22:03:20.348276Z"
    },
    "tags": []
   },
   "outputs": [],
   "source": [
    "df['reddit_community'] = df['Reddit URL'].apply(extract_reddit_community)"
   ]
  },
  {
   "cell_type": "code",
   "execution_count": 23,
   "id": "70795c87-413a-4acc-97b8-99353f1dc2e1",
   "metadata": {
    "execution": {
     "iopub.execute_input": "2023-01-23T22:12:02.760258Z",
     "iopub.status.busy": "2023-01-23T22:12:02.759915Z",
     "iopub.status.idle": "2023-01-23T22:12:02.768378Z",
     "shell.execute_reply": "2023-01-23T22:12:02.767664Z",
     "shell.execute_reply.started": "2023-01-23T22:12:02.760231Z"
    },
    "tags": []
   },
   "outputs": [
    {
     "data": {
      "text/plain": [
       "CryptoCurrency       0.538043\n",
       "Bitcoin              0.128623\n",
       "terraluna            0.070652\n",
       "ethereum             0.030797\n",
       "dogecoin             0.030797\n",
       "investing            0.027174\n",
       "UKPersonalFinance    0.023551\n",
       "eupersonalfinance    0.016304\n",
       "SHIBArmy             0.016304\n",
       "CanadianInvestor     0.014493\n",
       "Name: reddit_community, dtype: float64"
      ]
     },
     "execution_count": 23,
     "metadata": {},
     "output_type": "execute_result"
    }
   ],
   "source": [
    "df['reddit_community'].value_counts(normalize=True)[:10]"
   ]
  },
  {
   "cell_type": "markdown",
   "id": "d521ba0c-ee9b-4508-a7fb-9b8aa6d22d71",
   "metadata": {},
   "source": [
    "### Are any of these comments reviewed?\n",
    "\n",
    "If most of the comments were reviewed and had a score, I'd check the quality of non-reviewed comments only if it's not too much work to check manually (e.g. a few comments).\n",
    "If quality is poor, we may want to remove them from training. "
   ]
  },
  {
   "cell_type": "code",
   "execution_count": 15,
   "id": "1f21a397-427c-407a-8362-fccf3e286c3f",
   "metadata": {
    "execution": {
     "iopub.execute_input": "2023-01-23T22:06:30.931112Z",
     "iopub.status.busy": "2023-01-23T22:06:30.929083Z",
     "iopub.status.idle": "2023-01-23T22:06:30.949726Z",
     "shell.execute_reply": "2023-01-23T22:06:30.948807Z",
     "shell.execute_reply.started": "2023-01-23T22:06:30.931028Z"
    },
    "tags": []
   },
   "outputs": [
    {
     "data": {
      "text/plain": [
       "False    552\n",
       "Name: is_reviewed, dtype: int64"
      ]
     },
     "execution_count": 15,
     "metadata": {},
     "output_type": "execute_result"
    }
   ],
   "source": [
    "df['is_reviewed'].value_counts()"
   ]
  },
  {
   "cell_type": "markdown",
   "id": "63c4d3aa-43fb-491e-8d5f-a88a7c2b3d98",
   "metadata": {},
   "source": [
    "### What's the label distribution percentage-wise?"
   ]
  },
  {
   "cell_type": "code",
   "execution_count": 16,
   "id": "9a9df0ee-723b-488a-a9cf-dcf50c297759",
   "metadata": {
    "execution": {
     "iopub.execute_input": "2023-01-23T22:07:28.228256Z",
     "iopub.status.busy": "2023-01-23T22:07:28.227909Z",
     "iopub.status.idle": "2023-01-23T22:07:28.237365Z",
     "shell.execute_reply": "2023-01-23T22:07:28.236694Z",
     "shell.execute_reply.started": "2023-01-23T22:07:28.228230Z"
    },
    "tags": []
   },
   "outputs": [
    {
     "data": {
      "text/plain": [
       "Positive    0.536232\n",
       "Negative    0.463768\n",
       "Name: Sentiment, dtype: float64"
      ]
     },
     "execution_count": 16,
     "metadata": {},
     "output_type": "execute_result"
    }
   ],
   "source": [
    "df['Sentiment'].value_counts(normalize=True)"
   ]
  },
  {
   "cell_type": "markdown",
   "id": "c04013e1-8bea-4206-8341-4fc9d7332f8a",
   "metadata": {},
   "source": [
    "### How long are the comments?"
   ]
  },
  {
   "cell_type": "code",
   "execution_count": 17,
   "id": "b3b22df0-255a-42a5-8104-78a8ff6863f1",
   "metadata": {
    "execution": {
     "iopub.execute_input": "2023-01-23T22:07:47.127609Z",
     "iopub.status.busy": "2023-01-23T22:07:47.127219Z",
     "iopub.status.idle": "2023-01-23T22:07:47.132818Z",
     "shell.execute_reply": "2023-01-23T22:07:47.132025Z",
     "shell.execute_reply.started": "2023-01-23T22:07:47.127580Z"
    },
    "tags": []
   },
   "outputs": [],
   "source": [
    "df['comment_char_length'] = df['Comment Text'].apply(len)"
   ]
  },
  {
   "cell_type": "code",
   "execution_count": 18,
   "id": "4cd827b1-9687-4409-8f37-edc5555d704f",
   "metadata": {
    "execution": {
     "iopub.execute_input": "2023-01-23T22:07:47.263672Z",
     "iopub.status.busy": "2023-01-23T22:07:47.263318Z",
     "iopub.status.idle": "2023-01-23T22:07:47.275198Z",
     "shell.execute_reply": "2023-01-23T22:07:47.274334Z",
     "shell.execute_reply.started": "2023-01-23T22:07:47.263645Z"
    },
    "tags": []
   },
   "outputs": [
    {
     "data": {
      "text/plain": [
       "count     552.000000\n",
       "mean      228.748188\n",
       "std       388.573939\n",
       "min         7.000000\n",
       "25%        58.000000\n",
       "50%       115.000000\n",
       "75%       231.250000\n",
       "max      4229.000000\n",
       "Name: comment_char_length, dtype: float64"
      ]
     },
     "execution_count": 18,
     "metadata": {},
     "output_type": "execute_result"
    }
   ],
   "source": [
    "df['comment_char_length'].describe()"
   ]
  },
  {
   "cell_type": "code",
   "execution_count": 19,
   "id": "1176b520-b171-434f-a57c-91f0a746fc79",
   "metadata": {
    "execution": {
     "iopub.execute_input": "2023-01-23T22:08:21.384557Z",
     "iopub.status.busy": "2023-01-23T22:08:21.384204Z",
     "iopub.status.idle": "2023-01-23T22:08:21.393398Z",
     "shell.execute_reply": "2023-01-23T22:08:21.392570Z",
     "shell.execute_reply.started": "2023-01-23T22:08:21.384530Z"
    },
    "tags": []
   },
   "outputs": [],
   "source": [
    "df['comment_tokens_count'] = df['Comment Text'].apply(lambda text: len(text.strip().split()))"
   ]
  },
  {
   "cell_type": "code",
   "execution_count": 20,
   "id": "543d9b6f-ef9d-4f08-9816-d6ed069b379d",
   "metadata": {
    "execution": {
     "iopub.execute_input": "2023-01-23T22:08:21.614828Z",
     "iopub.status.busy": "2023-01-23T22:08:21.614397Z",
     "iopub.status.idle": "2023-01-23T22:08:21.623130Z",
     "shell.execute_reply": "2023-01-23T22:08:21.622397Z",
     "shell.execute_reply.started": "2023-01-23T22:08:21.614800Z"
    },
    "tags": []
   },
   "outputs": [
    {
     "data": {
      "text/plain": [
       "count    552.000000\n",
       "mean      40.822464\n",
       "std       67.754690\n",
       "min        2.000000\n",
       "25%       10.750000\n",
       "50%       21.000000\n",
       "75%       41.000000\n",
       "max      701.000000\n",
       "Name: comment_tokens_count, dtype: float64"
      ]
     },
     "execution_count": 20,
     "metadata": {},
     "output_type": "execute_result"
    }
   ],
   "source": [
    "df['comment_tokens_count'].describe()"
   ]
  },
  {
   "cell_type": "markdown",
   "id": "593081bc-a40f-4a66-bd44-a75eed04bfe0",
   "metadata": {},
   "source": [
    "### Get longest comment to evaluate model's response time later"
   ]
  },
  {
   "cell_type": "code",
   "execution_count": 21,
   "id": "1d6df493-e1b8-47a2-bc4d-6a319b5a92e2",
   "metadata": {
    "execution": {
     "iopub.execute_input": "2023-01-23T22:10:09.012578Z",
     "iopub.status.busy": "2023-01-23T22:10:09.012254Z",
     "iopub.status.idle": "2023-01-23T22:10:09.020133Z",
     "shell.execute_reply": "2023-01-23T22:10:09.019394Z",
     "shell.execute_reply.started": "2023-01-23T22:10:09.012553Z"
    }
   },
   "outputs": [
    {
     "data": {
      "text/plain": [
       "'why I don\\'t like crypto, ethically, financially and technologically:\\n\\nproof of work mining (e.g. Bitcoin) wastes ungodly amounts of electricity (until the world is 100% renewables mining displaces more useful work and thus creates emissions) and computing capacity\\nproof of space is the same but for making the world a worse place by driving up storage costs for everybody\\ncoin speculation is a massive ponzi scheme and no crypto fan acknowledges this\\nthe e.g. bitcoin network throughput is ~dozens of qps which would merely be hilarious if it wasn\\'t burning as much coal as Australia\\njust on pure waste: Bitcoin production is estimated to generate between 22 and 22.9 million metric tons of carbon dioxide emissions a year, or between the levels produced by Jordan and Sri Lanka, a 2019 study in scientific journal Joule found. (source) - ie this game is an entire additional country of environmental damage for ~no useful gain\\nno one has found an actual use for any of it except for online drug dealing (which requires niche coins since Bitcoin is massive distributed public ledger)\\nthe level of market manipulation and accounting fraud by eg Tether (and now USD \"coin\" admitted lying about the backing) would normally send people to jail but has for some reason got a free pass\\nthe clueless marketing by fanboys who only hope to enrich themselves by creating another layer to the pyramid\\nthe endlessly stupid projects it has spawned where blockchain is seen as a solution to anything aside from the niche case of \"distributed tamper evident journal\"\\nit has single handedly made mass international ransomware a viable business model by allowing a way to receive cash outside the banking system\\nthe general enablement of all sorts of scams, e.g. the endless kids on this very subreddit promoting \"12% crypto savings accounts\"\\nIt isn\\'t nearly as secure as people think it is. Any determined state actor could subvert the network.\\nDeflation isn\\'t actually a good thing in a currency. It ultimately favours the wealthy who can hold and dont need to spend.\\nMining (proof of stake or work) allow the wealthy to invest in mining equipment to control or dominate the market.\\nUltimately, no government on earth is going to give up its monetary policy as that is a key lever of control.\\nessentially everyone involved at this point is just trying to hustle the next generation - any hope any of it would serve as a useful technological or financial system has gone)\\nthe massive mis-represnetaion of how bitcoin in particular works, despite claims, it does not offer any of the following:\\nanonymity - the entire blockchain is public and diligently recorded on millions of nodes\\ndistributed freedom - a small number of mining cartels control almost all the hash power and normal people use one of ten crypto currency exchanges for everything anyway\\nunencumbered transactions - it\\'s comically slow and inefficient\\nconvenient purchases - wallets are unwieldly for normal people, no reversibility\\nstore of value - volatility is hilarious and all anyone cares about us BTC:USD\\nthings I do like about cryptocurrency:\\n\\nmonero is pretty clever\\nethereum smart contracts are pretty scifi\\nwatching people learn 5000 years of history of why we have banking regulation in a single decade has been fun\\nthere will be some massive financial catastrophes to watch that will mostly only harm people who did not read my previous list\\nthe earlier state of every single exchange either getting robbed or exit scamming their own fanboys was quite funny in retrospect\\n(thx to u/TwentyCharactersShor for some extra items).\\n\\nI used to just think cryptocurrency was a fun hack but a bad idea for the mainstream, but I\\'m now pretty convinced it should be banned purely on resource grounds, since it seems impossible to force the externalities to be addressed\\n\\nIt\\'s possible that someone will invent a cryptocurrency that\\'s efficient to a level that it\\'s not morally reprehensible to use, but how would it take off? the existing cryptocurrency interests want bitcoin to succeed purely because they\\'re the top of the pyramid and also selling the shovels and so now anything new has to compete aginst the real financial sector and the entrenched cryptocurrency players.'"
      ]
     },
     "execution_count": 21,
     "metadata": {},
     "output_type": "execute_result"
    }
   ],
   "source": [
    "df.iloc[df['comment_tokens_count'].idxmax()]['Comment Text']"
   ]
  },
  {
   "cell_type": "markdown",
   "id": "b0a27e75-d1d7-40df-aa04-6079cd884743",
   "metadata": {},
   "source": [
    "### Get median length comment to evaluate model's response time later"
   ]
  },
  {
   "cell_type": "code",
   "execution_count": 22,
   "id": "5a43434e-ca95-43cf-ab09-62098a511ba4",
   "metadata": {
    "execution": {
     "iopub.execute_input": "2023-01-23T22:10:45.217501Z",
     "iopub.status.busy": "2023-01-23T22:10:45.216877Z",
     "iopub.status.idle": "2023-01-23T22:10:45.224772Z",
     "shell.execute_reply": "2023-01-23T22:10:45.224144Z",
     "shell.execute_reply.started": "2023-01-23T22:10:45.217465Z"
    },
    "tags": []
   },
   "outputs": [
    {
     "data": {
      "text/plain": [
       "'His first company ticket monster was a major flop, which was the critical reason why I never touched that dog shit.'"
      ]
     },
     "execution_count": 22,
     "metadata": {},
     "output_type": "execute_result"
    }
   ],
   "source": [
    "# 21 tokens comment is 50th percentile\n",
    "df[df['comment_tokens_count'] == 21]['Comment Text'].values[0]"
   ]
  },
  {
   "cell_type": "markdown",
   "id": "7fb7f1cb-ab17-41bd-8772-1ffa9a1f1fdb",
   "metadata": {},
   "source": [
    "### Are there any emojis in the comments?"
   ]
  },
  {
   "cell_type": "code",
   "execution_count": 24,
   "id": "274d8f3c-2534-48b7-9c16-9a7ab3caa32d",
   "metadata": {
    "execution": {
     "iopub.execute_input": "2023-01-23T22:13:03.114355Z",
     "iopub.status.busy": "2023-01-23T22:13:03.114075Z",
     "iopub.status.idle": "2023-01-23T22:13:03.125552Z",
     "shell.execute_reply": "2023-01-23T22:13:03.124877Z",
     "shell.execute_reply.started": "2023-01-23T22:13:03.114332Z"
    },
    "tags": []
   },
   "outputs": [],
   "source": [
    "df['has_emoji'] = df['Comment Text'].apply(lambda txt: any(emoji.is_emoji(token) for token in txt.strip().split()))"
   ]
  },
  {
   "cell_type": "code",
   "execution_count": 26,
   "id": "2c8551db-cf1a-4c61-8e22-260f217418c4",
   "metadata": {
    "execution": {
     "iopub.execute_input": "2023-01-23T22:13:16.353347Z",
     "iopub.status.busy": "2023-01-23T22:13:16.353017Z",
     "iopub.status.idle": "2023-01-23T22:13:16.360541Z",
     "shell.execute_reply": "2023-01-23T22:13:16.359810Z",
     "shell.execute_reply.started": "2023-01-23T22:13:16.353320Z"
    },
    "tags": []
   },
   "outputs": [
    {
     "data": {
      "text/plain": [
       "False    0.972826\n",
       "True     0.027174\n",
       "Name: has_emoji, dtype: float64"
      ]
     },
     "execution_count": 26,
     "metadata": {},
     "output_type": "execute_result"
    }
   ],
   "source": [
    "df['has_emoji'].value_counts(normalize=True)"
   ]
  },
  {
   "cell_type": "code",
   "execution_count": 29,
   "id": "f9de6d97-0682-447b-abb4-1770d974a558",
   "metadata": {
    "execution": {
     "iopub.execute_input": "2023-01-23T22:13:46.027130Z",
     "iopub.status.busy": "2023-01-23T22:13:46.026801Z",
     "iopub.status.idle": "2023-01-23T22:13:46.042985Z",
     "shell.execute_reply": "2023-01-23T22:13:46.042253Z",
     "shell.execute_reply.started": "2023-01-23T22:13:46.027104Z"
    },
    "tags": []
   },
   "outputs": [
    {
     "data": {
      "text/html": [
       "<div>\n",
       "<style scoped>\n",
       "    .dataframe tbody tr th:only-of-type {\n",
       "        vertical-align: middle;\n",
       "    }\n",
       "\n",
       "    .dataframe tbody tr th {\n",
       "        vertical-align: top;\n",
       "    }\n",
       "\n",
       "    .dataframe thead th {\n",
       "        text-align: right;\n",
       "    }\n",
       "</style>\n",
       "<table border=\"1\" class=\"dataframe\">\n",
       "  <thead>\n",
       "    <tr style=\"text-align: right;\">\n",
       "      <th></th>\n",
       "      <th>Comment Text</th>\n",
       "      <th>Sentiment</th>\n",
       "    </tr>\n",
       "  </thead>\n",
       "  <tbody>\n",
       "    <tr>\n",
       "      <th>19</th>\n",
       "      <td>Literally crashing to zero in real time atm, Luna will be worth less than UST 🤣\\n\\n</td>\n",
       "      <td>Negative</td>\n",
       "    </tr>\n",
       "    <tr>\n",
       "      <th>88</th>\n",
       "      <td>People don't want to accept that crypto is a seriously risky and speculative asset, arguably one of the most speculative because there is absolutely 0 metrics that set a \"floor\" on the price- there are no revenue, there is no EPS, there are no buildings or machines or IP that have a hard value- There is nothing to weigh and look at to say \"Holy fuck, this is very undervalued right now i should buy\"....the only thing propping up crypto prices is \"feels\"\\n\\nAnd all this money is coming out of the same bucket because crypto isn't a closed loop, meaning you don't get paid in crypto and transact in crypto directly, you have to buy it with fiat and when you buy something with it the vendor then has to exchange it back to fiat for it to have any real use for them because its not a medium of exchange excepton the very razors edge of the margin....\\n\\nAs the economy gets worse and prices keep going up people simply have less money, so you are going to have a lot more sellers than buyers willing to put their fiat into the riskiest of assets when they have to pay 50% more for food and gas and might lose their job soon.\\n\\nThis is what happens every downturn, people flee risky speculative assets 🤷‍♂️\\n\\nIts going to get worse, we haven't really seen any layoffs yet but it's going to happen....Crypto is really going to take a shit when that happens because, again, all the money is coming from the same bucket\\n\\nMy point is that Crypto markets will never \"decouple\" from the wider financial markets, that's a complete pipe dream imo</td>\n",
       "      <td>Negative</td>\n",
       "    </tr>\n",
       "    <tr>\n",
       "      <th>109</th>\n",
       "      <td>I doubled down on Solana, Cardano, and Algorand 😳</td>\n",
       "      <td>Positive</td>\n",
       "    </tr>\n",
       "    <tr>\n",
       "      <th>138</th>\n",
       "      <td>The funny thing is that people have already added more liquidity. You can see on Algo Explorer that folks have already put some money in to your shid coin unless those are other wallets you’re associated with.\\n\\nWhich is to say: case in point. People will buy 💩 even if it’s labeled very clearly on the packaging and smells very much like 💩.</td>\n",
       "      <td>Negative</td>\n",
       "    </tr>\n",
       "    <tr>\n",
       "      <th>169</th>\n",
       "      <td>Yaaas 🙏🏼 buy more $sol</td>\n",
       "      <td>Positive</td>\n",
       "    </tr>\n",
       "    <tr>\n",
       "      <th>192</th>\n",
       "      <td>Doge to MARS 🚀</td>\n",
       "      <td>Positive</td>\n",
       "    </tr>\n",
       "    <tr>\n",
       "      <th>202</th>\n",
       "      <td>Dump it.... It's a 💩 coin</td>\n",
       "      <td>Negative</td>\n",
       "    </tr>\n",
       "    <tr>\n",
       "      <th>232</th>\n",
       "      <td>Unbelievable. I lost $2k to Do Kwon which was a third of my whole portfolio and for me a lot of money. 😒\\n\\nI’m really done with this guy. 🙄</td>\n",
       "      <td>Negative</td>\n",
       "    </tr>\n",
       "    <tr>\n",
       "      <th>250</th>\n",
       "      <td>This is why I love ❤ the bitcoin community it's not just about fiat\\n\\nI hope I'll be around and alive one day when people will say \"how much is that in satoshis?\"\\n\\nNot bothering in converting into state fiat.</td>\n",
       "      <td>Positive</td>\n",
       "    </tr>\n",
       "    <tr>\n",
       "      <th>341</th>\n",
       "      <td>LUNC all the way 🚀</td>\n",
       "      <td>Positive</td>\n",
       "    </tr>\n",
       "    <tr>\n",
       "      <th>344</th>\n",
       "      <td>I don’t even know why people like this shit coin so bad. Just buy the sims and stop losing 💰</td>\n",
       "      <td>Negative</td>\n",
       "    </tr>\n",
       "    <tr>\n",
       "      <th>377</th>\n",
       "      <td>I hope you are all stacking Ethereum at these discounted prices 🙌</td>\n",
       "      <td>Positive</td>\n",
       "    </tr>\n",
       "    <tr>\n",
       "      <th>431</th>\n",
       "      <td>Ethereum is a Robinhood character in reverse. It steals from the poor and gives to the rich . Gas ⛽ fees? Pure extortion and only a matter of time before the alt coins close in on ethereum.\\n\\n</td>\n",
       "      <td>Negative</td>\n",
       "    </tr>\n",
       "    <tr>\n",
       "      <th>491</th>\n",
       "      <td>I love me some ADA ☺️</td>\n",
       "      <td>Positive</td>\n",
       "    </tr>\n",
       "    <tr>\n",
       "      <th>541</th>\n",
       "      <td>Bitcoin is Hope &amp; Love. Many people are buying and investing long for their kids, grand kids, neices and nephews. It's Hope and Love for them. ❤️</td>\n",
       "      <td>Positive</td>\n",
       "    </tr>\n",
       "  </tbody>\n",
       "</table>\n",
       "</div>"
      ],
      "text/plain": [
       "                                                                                                                                                                                                                                                                                                                                                                                                                                                                                                                                                                                                                                                                                                                                                                                                                                                                                                                                                                                                                                                                                                                                                                                                                                                                                                                                                                                                                                                                                                                                                                                               Comment Text  \\\n",
       "19                                                                                                                                                                                                                                                                                                                                                                                                                                                                                                                                                                                                                                                                                                                                                                                                                                                                                                                                                                                                                                                                                                                                                                                                                                                                                                                                                                                                                                                                                                                      Literally crashing to zero in real time atm, Luna will be worth less than UST 🤣\\n\\n   \n",
       "88   People don't want to accept that crypto is a seriously risky and speculative asset, arguably one of the most speculative because there is absolutely 0 metrics that set a \"floor\" on the price- there are no revenue, there is no EPS, there are no buildings or machines or IP that have a hard value- There is nothing to weigh and look at to say \"Holy fuck, this is very undervalued right now i should buy\"....the only thing propping up crypto prices is \"feels\"\\n\\nAnd all this money is coming out of the same bucket because crypto isn't a closed loop, meaning you don't get paid in crypto and transact in crypto directly, you have to buy it with fiat and when you buy something with it the vendor then has to exchange it back to fiat for it to have any real use for them because its not a medium of exchange excepton the very razors edge of the margin....\\n\\nAs the economy gets worse and prices keep going up people simply have less money, so you are going to have a lot more sellers than buyers willing to put their fiat into the riskiest of assets when they have to pay 50% more for food and gas and might lose their job soon.\\n\\nThis is what happens every downturn, people flee risky speculative assets 🤷‍♂️\\n\\nIts going to get worse, we haven't really seen any layoffs yet but it's going to happen....Crypto is really going to take a shit when that happens because, again, all the money is coming from the same bucket\\n\\nMy point is that Crypto markets will never \"decouple\" from the wider financial markets, that's a complete pipe dream imo   \n",
       "109                                                                                                                                                                                                                                                                                                                                                                                                                                                                                                                                                                                                                                                                                                                                                                                                                                                                                                                                                                                                                                                                                                                                                                                                                                                                                                                                                                                                                                                                                                                                                       I doubled down on Solana, Cardano, and Algorand 😳   \n",
       "138                                                                                                                                                                                                                                                                                                                                                                                                                                                                                                                                                                                                                                                                                                                                                                                                                                                                                                                                                                                                                                                                                                                                                                                                                                                  The funny thing is that people have already added more liquidity. You can see on Algo Explorer that folks have already put some money in to your shid coin unless those are other wallets you’re associated with.\\n\\nWhich is to say: case in point. People will buy 💩 even if it’s labeled very clearly on the packaging and smells very much like 💩.   \n",
       "169                                                                                                                                                                                                                                                                                                                                                                                                                                                                                                                                                                                                                                                                                                                                                                                                                                                                                                                                                                                                                                                                                                                                                                                                                                                                                                                                                                                                                                                                                                                                                                                  Yaaas 🙏🏼 buy more $sol   \n",
       "192                                                                                                                                                                                                                                                                                                                                                                                                                                                                                                                                                                                                                                                                                                                                                                                                                                                                                                                                                                                                                                                                                                                                                                                                                                                                                                                                                                                                                                                                                                                                                                                          Doge to MARS 🚀   \n",
       "202                                                                                                                                                                                                                                                                                                                                                                                                                                                                                                                                                                                                                                                                                                                                                                                                                                                                                                                                                                                                                                                                                                                                                                                                                                                                                                                                                                                                                                                                                                                                                                               Dump it.... It's a 💩 coin   \n",
       "232                                                                                                                                                                                                                                                                                                                                                                                                                                                                                                                                                                                                                                                                                                                                                                                                                                                                                                                                                                                                                                                                                                                                                                                                                                                                                                                                                                                                                                                            Unbelievable. I lost $2k to Do Kwon which was a third of my whole portfolio and for me a lot of money. 😒\\n\\nI’m really done with this guy. 🙄   \n",
       "250                                                                                                                                                                                                                                                                                                                                                                                                                                                                                                                                                                                                                                                                                                                                                                                                                                                                                                                                                                                                                                                                                                                                                                                                                                                                                                                                                                                     This is why I love ❤ the bitcoin community it's not just about fiat\\n\\nI hope I'll be around and alive one day when people will say \"how much is that in satoshis?\"\\n\\nNot bothering in converting into state fiat.   \n",
       "341                                                                                                                                                                                                                                                                                                                                                                                                                                                                                                                                                                                                                                                                                                                                                                                                                                                                                                                                                                                                                                                                                                                                                                                                                                                                                                                                                                                                                                                                                                                                                                                      LUNC all the way 🚀   \n",
       "344                                                                                                                                                                                                                                                                                                                                                                                                                                                                                                                                                                                                                                                                                                                                                                                                                                                                                                                                                                                                                                                                                                                                                                                                                                                                                                                                                                                                                                                                                                            I don’t even know why people like this shit coin so bad. Just buy the sims and stop losing 💰   \n",
       "377                                                                                                                                                                                                                                                                                                                                                                                                                                                                                                                                                                                                                                                                                                                                                                                                                                                                                                                                                                                                                                                                                                                                                                                                                                                                                                                                                                                                                                                                                                                                       I hope you are all stacking Ethereum at these discounted prices 🙌   \n",
       "431                                                                                                                                                                                                                                                                                                                                                                                                                                                                                                                                                                                                                                                                                                                                                                                                                                                                                                                                                                                                                                                                                                                                                                                                                                                                                                                                                                                                       Ethereum is a Robinhood character in reverse. It steals from the poor and gives to the rich . Gas ⛽ fees? Pure extortion and only a matter of time before the alt coins close in on ethereum.\\n\\n   \n",
       "491                                                                                                                                                                                                                                                                                                                                                                                                                                                                                                                                                                                                                                                                                                                                                                                                                                                                                                                                                                                                                                                                                                                                                                                                                                                                                                                                                                                                                                                                                                                                                                                   I love me some ADA ☺️   \n",
       "541                                                                                                                                                                                                                                                                                                                                                                                                                                                                                                                                                                                                                                                                                                                                                                                                                                                                                                                                                                                                                                                                                                                                                                                                                                                                                                                                                                                                                                                       Bitcoin is Hope & Love. Many people are buying and investing long for their kids, grand kids, neices and nephews. It's Hope and Love for them. ❤️   \n",
       "\n",
       "    Sentiment  \n",
       "19   Negative  \n",
       "88   Negative  \n",
       "109  Positive  \n",
       "138  Negative  \n",
       "169  Positive  \n",
       "192  Positive  \n",
       "202  Negative  \n",
       "232  Negative  \n",
       "250  Positive  \n",
       "341  Positive  \n",
       "344  Negative  \n",
       "377  Positive  \n",
       "431  Negative  \n",
       "491  Positive  \n",
       "541  Positive  "
      ]
     },
     "execution_count": 29,
     "metadata": {},
     "output_type": "execute_result"
    }
   ],
   "source": [
    "df[df['has_emoji']][['Comment Text', 'Sentiment']]"
   ]
  },
  {
   "cell_type": "markdown",
   "id": "36b69eb4-5d26-435f-8ad8-c15e4391bac4",
   "metadata": {},
   "source": [
    "## Are there any urls in the comments?"
   ]
  },
  {
   "cell_type": "code",
   "execution_count": 30,
   "id": "43e9e3cb-f55a-4e27-92b9-19e627b8c022",
   "metadata": {
    "execution": {
     "iopub.execute_input": "2023-01-23T22:18:24.089352Z",
     "iopub.status.busy": "2023-01-23T22:18:24.088984Z",
     "iopub.status.idle": "2023-01-23T22:18:24.094243Z",
     "shell.execute_reply": "2023-01-23T22:18:24.092691Z",
     "shell.execute_reply.started": "2023-01-23T22:18:24.089322Z"
    }
   },
   "outputs": [],
   "source": [
    "URL_PATTERN = r'(https?:\\/\\/(?:www\\.)?[-a-zA-Z0-9@:%._+~#=]{1,256}\\.[a-zA-Z0-9()]{1,6}[-a-zA-Z0-9()@:%_+.~#?&/=]*)'\n",
    "\n",
    "def has_url(text):\n",
    "    community_search = re.search(URL_PATTERN, text, re.IGNORECASE)\n",
    "    return community_search is not None"
   ]
  },
  {
   "cell_type": "code",
   "execution_count": 31,
   "id": "65de827b-278f-44bb-bab7-2d3e8f65868f",
   "metadata": {
    "execution": {
     "iopub.execute_input": "2023-01-23T22:18:34.834559Z",
     "iopub.status.busy": "2023-01-23T22:18:34.833953Z",
     "iopub.status.idle": "2023-01-23T22:18:34.845328Z",
     "shell.execute_reply": "2023-01-23T22:18:34.844457Z",
     "shell.execute_reply.started": "2023-01-23T22:18:34.834530Z"
    }
   },
   "outputs": [],
   "source": [
    "df['has_url'] = df['Comment Text'].apply(has_url)"
   ]
  },
  {
   "cell_type": "code",
   "execution_count": 32,
   "id": "14de7669-fb80-41f7-9e9a-9d5e35254fbc",
   "metadata": {
    "execution": {
     "iopub.execute_input": "2023-01-23T22:18:36.502352Z",
     "iopub.status.busy": "2023-01-23T22:18:36.501990Z",
     "iopub.status.idle": "2023-01-23T22:18:36.509403Z",
     "shell.execute_reply": "2023-01-23T22:18:36.508734Z",
     "shell.execute_reply.started": "2023-01-23T22:18:36.502323Z"
    }
   },
   "outputs": [
    {
     "data": {
      "text/plain": [
       "False    0.992754\n",
       "True     0.007246\n",
       "Name: has_url, dtype: float64"
      ]
     },
     "execution_count": 32,
     "metadata": {},
     "output_type": "execute_result"
    }
   ],
   "source": [
    "df['has_url'].value_counts(normalize=True)"
   ]
  },
  {
   "cell_type": "code",
   "execution_count": 33,
   "id": "31ff7602-fe4b-41c3-9d46-a50d943649aa",
   "metadata": {
    "execution": {
     "iopub.execute_input": "2023-01-23T22:18:40.105840Z",
     "iopub.status.busy": "2023-01-23T22:18:40.105435Z",
     "iopub.status.idle": "2023-01-23T22:18:40.115786Z",
     "shell.execute_reply": "2023-01-23T22:18:40.114979Z",
     "shell.execute_reply.started": "2023-01-23T22:18:40.105811Z"
    }
   },
   "outputs": [
    {
     "data": {
      "text/html": [
       "<div>\n",
       "<style scoped>\n",
       "    .dataframe tbody tr th:only-of-type {\n",
       "        vertical-align: middle;\n",
       "    }\n",
       "\n",
       "    .dataframe tbody tr th {\n",
       "        vertical-align: top;\n",
       "    }\n",
       "\n",
       "    .dataframe thead th {\n",
       "        text-align: right;\n",
       "    }\n",
       "</style>\n",
       "<table border=\"1\" class=\"dataframe\">\n",
       "  <thead>\n",
       "    <tr style=\"text-align: right;\">\n",
       "      <th></th>\n",
       "      <th>Comment Text</th>\n",
       "      <th>Sentiment</th>\n",
       "    </tr>\n",
       "  </thead>\n",
       "  <tbody>\n",
       "    <tr>\n",
       "      <th>40</th>\n",
       "      <td>Environmental Impact: Bitcoin alone, has the environmental impact (Co2 emissions) of some small countries. For a 'currency' that is primarily used for stored value, not transactions, this is incredibly problematic. Assuming there will be no transformational breakthroughs in computing efficiency, proof of work is going to be with us, and obfuscating the long term value of crypto. - https://news.climate.columbia.edu/2021/09/20/bitcoins-impacts-on-climate-and-the-environment/\\n\\nComplexity: My smart, non-techy friend literally just put 40k into Titan's crypto fund because he didn't trust himself to not make a costly error in purchasing the coins I advised him on. He's in his early 30s and works for a tech company, still not confident of transacting in the coins themselves. That's going to continue to be a problem of broad adoption.\\n\\nScammy coins: This thread loves to shit on Elizabeth Warren for trying to regulate the crypto space, I think her heart is in the right place, but often gets the details wrong - BUUUUUT if we want broad adoption, we need zero news stories of people getting rug pulled, hacked, etc. Regulation specifically around verification of project fundamentals would be incredibly valuable to giving consumers confidence in what they're purchasing, prevent people from being rug pulled and becoming a crypto detractor.\\n\\nLittle/edge case consumer utility: Self explanatory. Until there are actual broad consumer market applications we're all still rolling dice in a casino.</td>\n",
       "      <td>Negative</td>\n",
       "    </tr>\n",
       "    <tr>\n",
       "      <th>363</th>\n",
       "      <td>Green energy is already widely used for mining Bitcoin.\\n\\nhttps://finance.yahoo.com/news/green-energy-sustainable-future-bitcoin-232841036.html\\n\\n    According to a recent report, bitcoin miners have already been using 56% of their total electricity through sustainable or renewable sources. For the members of the council, the usage is even better, 67.6%.</td>\n",
       "      <td>Positive</td>\n",
       "    </tr>\n",
       "    <tr>\n",
       "      <th>408</th>\n",
       "      <td>I hate this crypto garbage\\nI made a post about paying anyone 0.001btc for convincing me about cryptos usefulness. Lo an behold, I have come to realise that the \"coins\" I had for past few years are actually not there.. Imagine my surprise. I loaded $100 into my jaxx wallet a few years ago just because why not? Well thankfull it was only $100 because ofcourse I lost it. My wallet is stuck on 'initializing' whatever that means and I cant do anything: https://ibb.co/7Xv0NF1\\n\\nNever has a bank just lost my money like that. Crypto is the biggest fucking scam in the universe. Get out of it while you still can.\\n\\nUPDATE:\\n\\nOk so winzupdatee showed me how to fix my crap assbitcoin and as promised, I sent him 0.001btc as well as my fav answer from previous post dispite not being convinced. So to whoever said I wasnt going to pay up, I forgive you.\\n\\nALSO, this experience has only reinforced my distrust of crypto. I paid almost TEN DOLLARS to transfer like 40. THATS A 25% FEE LOL. How the hell can anyone advocate for a service that takes more fees than private lender banks for interest? Yea I get it, you can anonymously send money anywhere instantly, but apart from this dumb excercise on reddit, I cant fathom any reason or use for this especially not a \"store of value\". All civil and polite discussions are appreciated.</td>\n",
       "      <td>Negative</td>\n",
       "    </tr>\n",
       "    <tr>\n",
       "      <th>410</th>\n",
       "      <td>People have used salt, seashells, cigarettes etc as money. Because money is what we call the good or tool that is used as \"money\".\\n\\nThe is used to store value. To exchange for other goods. As a unit of account.\\n\\nA goods or tool becomes money when it is used as money.\\n\\nIn a prison cigarettes becomes money when that is the goods used for money.\\n\\nDifferent goods or tools can be better or worse money depending on the qualities it has.\\n\\nThere is no requirement that it has to be tangible or physical.\\n\\nThe requirements are that is has to do its job more or less. It has to work as a:\\n\\nStore of value Means of exchange Unit of account\\n\\nAnd to do so it has to be fungible, transportable and durable easy to verify, etc.\\n\\nBitcoin has all those properties and is designed to excel at all of them. Some say it does not store value, because it is too volatile, but bitcoin does not contain volatility, the volatility is caused by other humans. And volatility is not a problem as long as it has remained in value or increase in value between time A and time B the volatility in between does not matter at all. So far that requires could require that you hold it for more than 2-4 years but it will go down and become better and when it does it becomes even more valuable as more and more people see that it is here to stay and see that they can trust that it stores value and even increase in value.\\n\\nSo far it have and it seems like a given that it will continue to work and I would not bet against Bitcoin.\\n\\nGold is not bad, but today it does not work as a means of exchange for daily items and it probably can not as people will not go back from digital. Digital is superior at saving time and being verifiable.\\n\\nhttps://www.thoughtco.com/what-is-money-1147763\\n\\n</td>\n",
       "      <td>Positive</td>\n",
       "    </tr>\n",
       "  </tbody>\n",
       "</table>\n",
       "</div>"
      ],
      "text/plain": [
       "                                                                                                                                                                                                                                                                                                                                                                                                                                                                                                                                                                                                                                                                                                                                                                                                                                                                                                                                                                                                                                                                                                                                                                                                                                                                                                                                                                                                                                                                                                                                                                                                                                                                                                                                                                                                                                                Comment Text  \\\n",
       "40                                                                                                                                                                                                                                                                                        Environmental Impact: Bitcoin alone, has the environmental impact (Co2 emissions) of some small countries. For a 'currency' that is primarily used for stored value, not transactions, this is incredibly problematic. Assuming there will be no transformational breakthroughs in computing efficiency, proof of work is going to be with us, and obfuscating the long term value of crypto. - https://news.climate.columbia.edu/2021/09/20/bitcoins-impacts-on-climate-and-the-environment/\\n\\nComplexity: My smart, non-techy friend literally just put 40k into Titan's crypto fund because he didn't trust himself to not make a costly error in purchasing the coins I advised him on. He's in his early 30s and works for a tech company, still not confident of transacting in the coins themselves. That's going to continue to be a problem of broad adoption.\\n\\nScammy coins: This thread loves to shit on Elizabeth Warren for trying to regulate the crypto space, I think her heart is in the right place, but often gets the details wrong - BUUUUUT if we want broad adoption, we need zero news stories of people getting rug pulled, hacked, etc. Regulation specifically around verification of project fundamentals would be incredibly valuable to giving consumers confidence in what they're purchasing, prevent people from being rug pulled and becoming a crypto detractor.\\n\\nLittle/edge case consumer utility: Self explanatory. Until there are actual broad consumer market applications we're all still rolling dice in a casino.   \n",
       "363                                                                                                                                                                                                                                                                                                                                                                                                                                                                                                                                                                                                                                                                                                                                                                                                                                                                                                                                                                                                                                                                                                                                                                                                                                                                                                                                                                                                                                                                                   Green energy is already widely used for mining Bitcoin.\\n\\nhttps://finance.yahoo.com/news/green-energy-sustainable-future-bitcoin-232841036.html\\n\\n    According to a recent report, bitcoin miners have already been using 56% of their total electricity through sustainable or renewable sources. For the members of the council, the usage is even better, 67.6%.   \n",
       "408                                                                                                                                                                                                                                                                                                                                                                                                                                                                   I hate this crypto garbage\\nI made a post about paying anyone 0.001btc for convincing me about cryptos usefulness. Lo an behold, I have come to realise that the \"coins\" I had for past few years are actually not there.. Imagine my surprise. I loaded $100 into my jaxx wallet a few years ago just because why not? Well thankfull it was only $100 because ofcourse I lost it. My wallet is stuck on 'initializing' whatever that means and I cant do anything: https://ibb.co/7Xv0NF1\\n\\nNever has a bank just lost my money like that. Crypto is the biggest fucking scam in the universe. Get out of it while you still can.\\n\\nUPDATE:\\n\\nOk so winzupdatee showed me how to fix my crap assbitcoin and as promised, I sent him 0.001btc as well as my fav answer from previous post dispite not being convinced. So to whoever said I wasnt going to pay up, I forgive you.\\n\\nALSO, this experience has only reinforced my distrust of crypto. I paid almost TEN DOLLARS to transfer like 40. THATS A 25% FEE LOL. How the hell can anyone advocate for a service that takes more fees than private lender banks for interest? Yea I get it, you can anonymously send money anywhere instantly, but apart from this dumb excercise on reddit, I cant fathom any reason or use for this especially not a \"store of value\". All civil and polite discussions are appreciated.   \n",
       "410  People have used salt, seashells, cigarettes etc as money. Because money is what we call the good or tool that is used as \"money\".\\n\\nThe is used to store value. To exchange for other goods. As a unit of account.\\n\\nA goods or tool becomes money when it is used as money.\\n\\nIn a prison cigarettes becomes money when that is the goods used for money.\\n\\nDifferent goods or tools can be better or worse money depending on the qualities it has.\\n\\nThere is no requirement that it has to be tangible or physical.\\n\\nThe requirements are that is has to do its job more or less. It has to work as a:\\n\\nStore of value Means of exchange Unit of account\\n\\nAnd to do so it has to be fungible, transportable and durable easy to verify, etc.\\n\\nBitcoin has all those properties and is designed to excel at all of them. Some say it does not store value, because it is too volatile, but bitcoin does not contain volatility, the volatility is caused by other humans. And volatility is not a problem as long as it has remained in value or increase in value between time A and time B the volatility in between does not matter at all. So far that requires could require that you hold it for more than 2-4 years but it will go down and become better and when it does it becomes even more valuable as more and more people see that it is here to stay and see that they can trust that it stores value and even increase in value.\\n\\nSo far it have and it seems like a given that it will continue to work and I would not bet against Bitcoin.\\n\\nGold is not bad, but today it does not work as a means of exchange for daily items and it probably can not as people will not go back from digital. Digital is superior at saving time and being verifiable.\\n\\nhttps://www.thoughtco.com/what-is-money-1147763\\n\\n   \n",
       "\n",
       "    Sentiment  \n",
       "40   Negative  \n",
       "363  Positive  \n",
       "408  Negative  \n",
       "410  Positive  "
      ]
     },
     "execution_count": 33,
     "metadata": {},
     "output_type": "execute_result"
    }
   ],
   "source": [
    "df[df['has_url']][['Comment Text', 'Sentiment']]"
   ]
  }
 ],
 "metadata": {
  "kernelspec": {
   "display_name": "Python 3 (ipykernel)",
   "language": "python",
   "name": "python3"
  },
  "language_info": {
   "codemirror_mode": {
    "name": "ipython",
    "version": 3
   },
   "file_extension": ".py",
   "mimetype": "text/x-python",
   "name": "python",
   "nbconvert_exporter": "python",
   "pygments_lexer": "ipython3",
   "version": "3.9.16"
  }
 },
 "nbformat": 4,
 "nbformat_minor": 5
}
