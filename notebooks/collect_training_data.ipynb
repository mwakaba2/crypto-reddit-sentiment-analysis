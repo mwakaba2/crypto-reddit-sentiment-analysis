{
 "cells": [
  {
   "cell_type": "markdown",
   "id": "cac08f0b-463f-4ff2-8c12-536f49840666",
   "metadata": {},
   "source": [
    "# Training Data Collection\n",
    "\n",
    "The given dataset may be too small to fine-tune a model. Assuming the given dataset is a good representation of real world production data, I wanted like to keep that data separate as a final test. So I needed to create a new training dataset.\n",
    "\n",
    "Given the limited time, I decided to use readily available crypto related reddit data found on Kaggle:\n",
    "\n",
    "* https://www.kaggle.com/datasets/leukipp/reddit-crypto-data: Reddit posts from various crypto-related subreddits.\n",
    "* https://www.kaggle.com/datasets/gpreda/reddit-cryptocurrency: Reddit post and comments from CryptoCurrency Subreddit. \n",
    "\n",
    "I created a new training dataset using the above data sources. \n",
    "\n",
    "The goal is to create a new training dataset and fine-tune the fastest well performing model: DistilBert. \n",
    "\n",
    "Some things to watch out when creating dataset:\n",
    "\n",
    "* Be careful with data leakage. We don't want to introduce the same data as the test set during training. \n"
   ]
  },
  {
   "cell_type": "code",
   "execution_count": 2,
   "id": "05cdfd05-4406-43a7-90f8-2df443ecf9ac",
   "metadata": {
    "collapsed": true,
    "execution": {
     "iopub.execute_input": "2023-01-24T01:15:31.452440Z",
     "iopub.status.busy": "2023-01-24T01:15:31.452124Z",
     "iopub.status.idle": "2023-01-24T01:15:33.952326Z",
     "shell.execute_reply": "2023-01-24T01:15:33.951619Z",
     "shell.execute_reply.started": "2023-01-24T01:15:31.452414Z"
    },
    "jupyter": {
     "outputs_hidden": true
    },
    "tags": []
   },
   "outputs": [
    {
     "name": "stderr",
     "output_type": "stream",
     "text": [
      "/Users/mwaka/opt/anaconda3/envs/messari/lib/python3.9/site-packages/tqdm/auto.py:22: TqdmWarning: IProgress not found. Please update jupyter and ipywidgets. See https://ipywidgets.readthedocs.io/en/stable/user_install.html\n",
      "  from .autonotebook import tqdm as notebook_tqdm\n"
     ]
    }
   ],
   "source": [
    "import pandas as pd\n",
    "import re\n",
    "\n",
    "import emoji\n",
    "from transformers import pipeline\n",
    "from tqdm.notebook import tqdm_notebook"
   ]
  },
  {
   "cell_type": "code",
   "execution_count": 3,
   "id": "3544a204-15ef-465e-9166-dfac42d88b7f",
   "metadata": {
    "execution": {
     "iopub.execute_input": "2023-01-24T01:15:33.953919Z",
     "iopub.status.busy": "2023-01-24T01:15:33.953609Z",
     "iopub.status.idle": "2023-01-24T01:15:33.957313Z",
     "shell.execute_reply": "2023-01-24T01:15:33.956613Z",
     "shell.execute_reply.started": "2023-01-24T01:15:33.953895Z"
    },
    "tags": []
   },
   "outputs": [],
   "source": [
    "tqdm_notebook.pandas()"
   ]
  },
  {
   "cell_type": "code",
   "execution_count": 4,
   "id": "c504de24-132a-4ed8-9eab-12beee257a70",
   "metadata": {
    "execution": {
     "iopub.execute_input": "2023-01-24T01:15:33.958544Z",
     "iopub.status.busy": "2023-01-24T01:15:33.958162Z",
     "iopub.status.idle": "2023-01-24T01:15:33.962575Z",
     "shell.execute_reply": "2023-01-24T01:15:33.961460Z",
     "shell.execute_reply.started": "2023-01-24T01:15:33.958521Z"
    },
    "tags": []
   },
   "outputs": [],
   "source": [
    "pd.set_option('max_colwidth', None)"
   ]
  },
  {
   "cell_type": "code",
   "execution_count": 5,
   "id": "c9392b68-724e-4e6c-a21a-b5c83f6fb9a4",
   "metadata": {
    "execution": {
     "iopub.execute_input": "2023-01-24T01:15:33.966058Z",
     "iopub.status.busy": "2023-01-24T01:15:33.965648Z",
     "iopub.status.idle": "2023-01-24T01:15:33.969802Z",
     "shell.execute_reply": "2023-01-24T01:15:33.969087Z",
     "shell.execute_reply.started": "2023-01-24T01:15:33.966028Z"
    },
    "tags": []
   },
   "outputs": [],
   "source": [
    "# posts published between 2022-01-01 00:00:13 and 2022-12-31 23:17:08\n",
    "communities = ['cryptocurrency', 'bitcoin', 'ethereum', 'dogecoin']"
   ]
  },
  {
   "cell_type": "code",
   "execution_count": 6,
   "id": "5bc83a43-27d1-403c-b1d2-f75a1aadaaa5",
   "metadata": {
    "execution": {
     "iopub.execute_input": "2023-01-24T01:15:33.971132Z",
     "iopub.status.busy": "2023-01-24T01:15:33.970782Z",
     "iopub.status.idle": "2023-01-24T01:15:35.794504Z",
     "shell.execute_reply": "2023-01-24T01:15:35.793677Z",
     "shell.execute_reply.started": "2023-01-24T01:15:33.971108Z"
    },
    "tags": []
   },
   "outputs": [],
   "source": [
    "df = pd.DataFrame()\n",
    "\n",
    "for community in communities:\n",
    "    comments = pd.read_csv(f'../datasets/reddit_posts/{community}/submission.csv', usecols=['submission', 'subreddit', 'selftext'])\n",
    "    df = pd.concat([df,comments])\n",
    "    \n",
    "df = df.rename(columns={'selftext': 'text'})"
   ]
  },
  {
   "cell_type": "code",
   "execution_count": 7,
   "id": "9a045537-ea32-419f-a2b8-ac6174755b6c",
   "metadata": {
    "execution": {
     "iopub.execute_input": "2023-01-24T01:15:35.796666Z",
     "iopub.status.busy": "2023-01-24T01:15:35.796361Z",
     "iopub.status.idle": "2023-01-24T01:15:35.804872Z",
     "shell.execute_reply": "2023-01-24T01:15:35.803562Z",
     "shell.execute_reply.started": "2023-01-24T01:15:35.796642Z"
    },
    "tags": []
   },
   "outputs": [
    {
     "data": {
      "text/plain": [
       "391312"
      ]
     },
     "execution_count": 7,
     "metadata": {},
     "output_type": "execute_result"
    }
   ],
   "source": [
    "len(df)"
   ]
  },
  {
   "cell_type": "code",
   "execution_count": 211,
   "id": "1b7f9334-0f9d-4832-a1a5-3e4d762bb947",
   "metadata": {
    "execution": {
     "iopub.execute_input": "2023-01-22T01:17:21.752491Z",
     "iopub.status.busy": "2023-01-22T01:17:21.751926Z",
     "iopub.status.idle": "2023-01-22T01:17:22.013958Z",
     "shell.execute_reply": "2023-01-22T01:17:22.013205Z",
     "shell.execute_reply.started": "2023-01-22T01:17:21.752462Z"
    },
    "tags": []
   },
   "outputs": [],
   "source": [
    "# Augment data from https://www.kaggle.com/datasets/gpreda/reddit-cryptocurrency\n",
    "comments = pd.read_csv('../datasets/reddit_crypto_posts_comments/reddit_cc.csv', usecols=['id', 'body'])"
   ]
  },
  {
   "cell_type": "code",
   "execution_count": 212,
   "id": "0e11d1d1-2f7b-405c-a017-9942335c4a09",
   "metadata": {
    "execution": {
     "iopub.execute_input": "2023-01-22T01:17:27.376129Z",
     "iopub.status.busy": "2023-01-22T01:17:27.375745Z",
     "iopub.status.idle": "2023-01-22T01:17:27.386945Z",
     "shell.execute_reply": "2023-01-22T01:17:27.385725Z",
     "shell.execute_reply.started": "2023-01-22T01:17:27.376102Z"
    },
    "tags": []
   },
   "outputs": [],
   "source": [
    "comments['subreddit'] = 'cryptocurrency'\n",
    "comments = comments.rename(columns={'id': 'submission', 'body': 'text'})"
   ]
  },
  {
   "cell_type": "code",
   "execution_count": 213,
   "id": "e27cb340-434d-4780-9235-70d132ba5580",
   "metadata": {
    "execution": {
     "iopub.execute_input": "2023-01-22T01:17:27.549495Z",
     "iopub.status.busy": "2023-01-22T01:17:27.549155Z",
     "iopub.status.idle": "2023-01-22T01:17:27.554216Z",
     "shell.execute_reply": "2023-01-22T01:17:27.553511Z",
     "shell.execute_reply.started": "2023-01-22T01:17:27.549468Z"
    },
    "tags": []
   },
   "outputs": [
    {
     "data": {
      "text/plain": [
       "40918"
      ]
     },
     "execution_count": 213,
     "metadata": {},
     "output_type": "execute_result"
    }
   ],
   "source": [
    "len(comments)"
   ]
  },
  {
   "cell_type": "code",
   "execution_count": 214,
   "id": "b3bf4828-5784-4222-9f53-d4794c68be28",
   "metadata": {
    "execution": {
     "iopub.execute_input": "2023-01-22T01:17:31.930310Z",
     "iopub.status.busy": "2023-01-22T01:17:31.929966Z",
     "iopub.status.idle": "2023-01-22T01:17:31.956792Z",
     "shell.execute_reply": "2023-01-22T01:17:31.955681Z",
     "shell.execute_reply.started": "2023-01-22T01:17:31.930284Z"
    },
    "tags": []
   },
   "outputs": [],
   "source": [
    "comments = comments.drop_duplicates(subset='text')"
   ]
  },
  {
   "cell_type": "code",
   "execution_count": 215,
   "id": "37de17d0-572e-457e-a227-0b94e35d6de4",
   "metadata": {
    "execution": {
     "iopub.execute_input": "2023-01-22T01:17:32.509400Z",
     "iopub.status.busy": "2023-01-22T01:17:32.509062Z",
     "iopub.status.idle": "2023-01-22T01:17:32.536054Z",
     "shell.execute_reply": "2023-01-22T01:17:32.535222Z",
     "shell.execute_reply.started": "2023-01-22T01:17:32.509375Z"
    },
    "tags": []
   },
   "outputs": [],
   "source": [
    "df = pd.concat([df, comments])"
   ]
  },
  {
   "cell_type": "code",
   "execution_count": 216,
   "id": "d37d542e-7241-4a1c-bc4d-595bb0af1d52",
   "metadata": {
    "execution": {
     "iopub.execute_input": "2023-01-22T01:17:32.735292Z",
     "iopub.status.busy": "2023-01-22T01:17:32.734534Z",
     "iopub.status.idle": "2023-01-22T01:17:32.740075Z",
     "shell.execute_reply": "2023-01-22T01:17:32.739404Z",
     "shell.execute_reply.started": "2023-01-22T01:17:32.735263Z"
    },
    "tags": []
   },
   "outputs": [
    {
     "data": {
      "text/plain": [
       "424371"
      ]
     },
     "execution_count": 216,
     "metadata": {},
     "output_type": "execute_result"
    }
   ],
   "source": [
    "len(df)"
   ]
  },
  {
   "cell_type": "code",
   "execution_count": 218,
   "id": "185e460b-349d-4063-a5f5-4bf22795285c",
   "metadata": {
    "execution": {
     "iopub.execute_input": "2023-01-22T01:17:48.831527Z",
     "iopub.status.busy": "2023-01-22T01:17:48.831186Z",
     "iopub.status.idle": "2023-01-22T01:17:48.863570Z",
     "shell.execute_reply": "2023-01-22T01:17:48.862797Z",
     "shell.execute_reply.started": "2023-01-22T01:17:48.831500Z"
    },
    "tags": []
   },
   "outputs": [
    {
     "data": {
      "text/plain": [
       "cryptocurrency    276246\n",
       "bitcoin            66576\n",
       "dogecoin           58320\n",
       "ethereum           23229\n",
       "Name: subreddit, dtype: int64"
      ]
     },
     "execution_count": 218,
     "metadata": {},
     "output_type": "execute_result"
    }
   ],
   "source": [
    "df['subreddit'].value_counts()"
   ]
  },
  {
   "cell_type": "code",
   "execution_count": 222,
   "id": "ac7eced5-6f64-441f-9d98-d86f93f755c5",
   "metadata": {
    "collapsed": true,
    "execution": {
     "iopub.execute_input": "2023-01-22T01:21:39.136053Z",
     "iopub.status.busy": "2023-01-22T01:21:39.135561Z",
     "iopub.status.idle": "2023-01-22T01:21:39.217481Z",
     "shell.execute_reply": "2023-01-22T01:21:39.216666Z",
     "shell.execute_reply.started": "2023-01-22T01:21:39.136027Z"
    },
    "jupyter": {
     "outputs_hidden": true
    },
    "tags": []
   },
   "outputs": [
    {
     "data": {
      "text/plain": [
       "[removed]                                                                                                                                                                                                                                                                                                                                                                                                                                                                                                                                                                                                                                                                                                                                                                                                                                                                                                                                                                                                                                                                                                                                                                                                                                                                                                                                                                                                                                                                                                                                                                                                                                                                                                                                                                                                                                                                                                                                                                                                                                                                                                                                                                                                                                                                                                                                                                                                                                                                                                                                                                                                                                                                                                                                                                                                                                                                                                                                                                                                                                                                                                                                                                                                                                                                                                                                                                                                                                                                                                                                                                                                                                                                                                                                                                                                                                                                                                                                                                                                                                                                                                                                                                                                                                                                                                                                                                                                                                                                                                                                                                                                                                                                                                                                                                                                                                                                                                                                                                                                                                                                                                                                                                                                                                                                                                                                                                                                                                                                                                                                                                                     126220\n",
       "[deleted]                                                                                                                                                                                                                                                                                                                                                                                                                                                                                                                                                                                                                                                                                                                                                                                                                                                                                                                                                                                                                                                                                                                                                                                                                                                                                                                                                                                                                                                                                                                                                                                                                                                                                                                                                                                                                                                                                                                                                                                                                                                                                                                                                                                                                                                                                                                                                                                                                                                                                                                                                                                                                                                                                                                                                                                                                                                                                                                                                                                                                                                                                                                                                                                                                                                                                                                                                                                                                                                                                                                                                                                                                                                                                                                                                                                                                                                                                                                                                                                                                                                                                                                                                                                                                                                                                                                                                                                                                                                                                                                                                                                                                                                                                                                                                                                                                                                                                                                                                                                                                                                                                                                                                                                                                                                                                                                                                                                                                                                                                                                                                                                      29422\n",
       "**Welcome to the Daily General Discussion thread. Please read the disclaimer and rules before participating.**\\n \\n***\\n&nbsp;\\n    \\n###Disclaimer:\\n\\nConsider all information posted here with several liberal heaps of salt, and always cross check any information you may read on this thread with known sources. Any trade information posted in this open thread may be highly misleading, and could be an attempt to manipulate new readers by known \"pump and dump (PnD) groups\" for their own profit. BEWARE of such practices and exercise utmost caution before acting on any trade tip mentioned here. \\n\\n\\n**Please be careful about what information you share and the actions you take.** Do not share the amounts of your portfolios (why not just share percentage?). Do not share your private keys or wallet seed. Use strong, non-SMS 2FA if possible. Beware of scammers and be smart. Do not invest more than you can afford to lose, and do not fall for pyramid schemes, promises of unrealistic returns (get-rich-quick schemes), and other common scams.\\n    \\n***\\n&nbsp;\\n    \\n###Rules:\\n\\n  - All [sub rules](https://www.reddit.com/r/CryptoCurrency/about/rules/) apply in this thread. The prior exemption for karma and age requirements is no longer in effect. \\n  - Discussion topics must be related to cryptocurrency.\\n  - Behave with civility and politeness. Do not use offensive, racist or homophobic language.\\n  - Comments will be sorted by newest first.\\n  \\n***\\n&nbsp;\\n\\n###Useful Links:\\n\\n  - [**Beginner Resources**](https://www.reddit.com/r/CryptoCurrency/wiki/beginner_resources)\\n\\n  - [**Intro to r/Cryptocurrency MOONs 🌔**](https://www.reddit.com/r/CryptoCurrency/comments/gj96lb/introducing_rcryptocurrency_moons/)\\n\\n  - [**MOONs Wiki Page**](https://www.reddit.com/r/CryptoCurrency/wiki/moons_wiki/)\\n\\n  - [**r/CryptoCurrency Discord**](https://old.reddit.com/r/CryptoCurrency/comments/kth255/join_the_crypto_currency_discord/)\\n\\n  - [**r/CryptoCurrencyMemes**](https://www.reddit.com/r/cryptocurrencymemes)\\n\\n  - [**Prior Daily Discussions**](https://old.reddit.com/r/CryptoCurrency/search?q=title%3A%22Daily+General+Discussion+-+%22+&restrict_sr=on&sort=new&t=all) - (Link fixed.)\\n\\n  - [**r/CryptoCurrencyMeta**](https://www.reddit.com/r/CryptoCurrencyMeta/) - Join in on all meta discussions regarding r/CryptoCurrency whether it be moon distributions or governance.\\n\\n***\\n&nbsp;\\n\\n### Finding Other Discussion Threads\\n\\nFollow a mod account below to be notified in your home feed when the latest r/CC discussion thread of your interest is posted.\\n\\n* u/CryptoDaily- — Posts the Daily General Discussion threads. \\n\\n* u/CryptoSkeptics — Posts the Monthly Skeptics Discussion threads.\\n \\n* u/CryptoOptimists- — Posts the Monthly Optimists Discussion threads.\\n\\n* u/CryptoNewsUpdates — Posts the Monthly News Summary threads.                                                                                                                                                                                                                                                                                                                                                                                                                                                                                                                                                                                                                                                                                                                                                                                                                                                                                                                                                                                                                                                                                                                                                                                                                                                                                                                                                                                                                                                                                                                                                                                                                                                                                                                                                                                                                                                                                                                                                                                                                                                                                                                                                                                                                                                                                                                                                                                                                                                                                                                                                                                                                          147\n",
       "**Welcome to the Daily Discussion. Please read the disclaimer and rules before participating.**\\n \\n***\\n&nbsp;\\n    \\n###Disclaimer:\\n\\nConsider all information posted here with several liberal heaps of salt, and always cross check any information you may read on this thread with known sources. Any trade information posted in this open thread may be highly misleading, and could be an attempt to manipulate new readers by known \"pump and dump (PnD) groups\" for their own profit. BEWARE of such practices and exercise utmost caution before acting on any trade tip mentioned here. \\n\\n\\n**Please be careful about what information you share and the actions you take.** Do not share the amounts of your portfolios (why not just share percentage?). Do not share your private keys or wallet seed. Use strong, non-SMS 2FA if possible. Beware of scammers and be smart. Do not invest more than you can afford to lose, and do not fall for pyramid schemes, promises of unrealistic returns (get-rich-quick schemes), and other common scams.\\n    \\n***\\n&nbsp;\\n    \\n###Rules:\\n\\n  - All [sub rules](https://www.reddit.com/r/CryptoCurrency/about/rules/) apply in this thread. The prior exemption for karma and age requirements is no longer in effect. \\n  - Discussion topics must be related to cryptocurrency.\\n  - Behave with civility and politeness. Do not use offensive, racist or homophobic language.\\n  - Comments will be sorted by newest first.\\n  \\n***\\n&nbsp;\\n\\n###Useful Links:\\n\\n  - [**Beginner Resources**](https://www.reddit.com/r/CryptoCurrency/wiki/beginner_resources)\\n\\n  - [**Intro to r/Cryptocurrency MOONs 🌔**](https://www.reddit.com/r/CryptoCurrency/comments/gj96lb/introducing_rcryptocurrency_moons/)\\n\\n  - [**MOONs Wiki Page**](https://www.reddit.com/r/CryptoCurrency/wiki/moons_wiki/)\\n\\n  - [**r/CryptoCurrency Discord**](https://old.reddit.com/r/CryptoCurrency/comments/kth255/join_the_crypto_currency_discord/)\\n\\n  - [**r/CryptoCurrencyMemes**](https://www.reddit.com/r/cryptocurrencymemes)\\n\\n  - [**Prior Daily Discussions**](https://old.reddit.com/r/CryptoCurrency/search?q=title%3A\"Daily+Discussion+-+\"+&restrict_sr=on&sort=new&t=all)\\n\\n  - [**r/CryptoCurrencyMeta**](https://www.reddit.com/r/CryptoCurrencyMeta/) - Join in on all meta discussions regarding r/CryptoCurrency whether it be moon distributions or governance.                                                                                                                                                                                                                                                                                                                                                                                                                                                                                                                                                                                                                                                                                                                                                                                                                                                                                                                                                                                                                                                                                                                                                                                                                                                                                                                                                                                                                                                                                                                                                                                                                                                                                                                                                                                                                                                                                                                                                                                                                                                                                                                                                                                                                                                                                                                                                                                                                                                                                                                                                                                                                                                                                                                                                                                                                                                                                                                                                                                                                                                                                                                                                      128\n",
       "Hi Shibes,\\n\\nWelcome to todays Daily Discussion post. **YOU ARE DOGECOIN!**\\n\\n\\n---\\n\\nI just want to quickly remind people that this subreddit does have a tipbot where you can give each other dogecoins.   \\n\\n-->> [Click on this link for instructions on how to start a tipbot account](https://www.reddit.com/r/sodogetip/wiki/index) <<---  \\n\\nOnce you sign up you will get an on-chain wallet address where you can track your coins. You can also get the private key for this wallet from the SoDogeTip website. You can transfer dogecoins into this wallet address and begin giving dogecoin to other people on reddit! And using your key you can also send coins yourself, even if the tipbot is down\\nMaybe you see a meme that made you laugh? Give them a few dogecoin.\\nMaybe you see an insightful post that helped you understand something better? Give them a few dogecoin.\\nMaybe you see a charity you'd like to donate to. Do it with sodogetip. \\n\\nYou can also get the latest version of the dogecoin wallet (version  1.14.5) from www.dogecoin.com \\n\\n---\\n\\nHere are some links and topics that people have wanted me to post here. Please take a look!\\n\\n* [HOW TO BUY DOGECOIN GUIDE UPDATED](https://redd.it/qrhcs5/) - https://redd.it/qrhcs5\\n\\n* [[Guide] How to create and redeem paper wallets! ](https://redd.it/r7cg2e)   \\n\\n* [[Guide] Extract the recovery phrase from the Android apappp Dogecoin Wallet created by langerhans](https://redd.it/rcvzw4) \\n\\n* [[Guide] A quick comparison of Dogecoin wallets](https://redd.it/rd8hya) \\n\\n* [Such News! Are we ready for our tipbot keys?](https://www.reddit.com/r/dogecoin/comments/nw6okq/such_news_are_we_ready_for_our_tipbot_keys_ive/)\\n\\n* [Cryptwerk.com is a list of many many many places you can spend dogecoin.](https://cryptwerk.com/pay-with/doge/)\\n\\n* [Advice from a Gambling Counsellor](https://www.reddit.com/r/dogecoin/comments/mwrltk/advice_from_a_gambling_counsellor/) - https://redd.it/mwrltk\\n\\n* [Looking after your mental health](https://reddit.com/r/dogecoin/comments/mtf2ym/reminder_that_dogecoin_is_awesome_but_its_not/) - https://redd.it/mtf2ym\\n\\n* [Being aware of scammers](https://www.reddit.com/r/dogeducation/comments/n9nwfc/scammers/)\\n\\n* [Another Shibe wrote a post about being aware of scams.](https://redd.it/mrq5c9) - https://redd.it/mrq5c9\\n\\n* [F@H (Folding@Home) and GitHub are NOT Doge helplines!](https://www.reddit.com/r/dogecoin/comments/n6wtnr/fh_foldinghome_and_github_are_not_doge_helplines/)\\n\\n* [From 7 years ago. An open letter to the Dogecoin community from co-founder Billy Markus](https://www.reddit.com/r/dogecoin/comments/1xaeue/enjoy_this_moment_an_open_letter_to_the_dogecoin/)\\n\\n* [Had a few people ask me to mention this petition to get Amazon to accept dogecoin](http://chng.it/R48d6XYwMr)\\n\\nSome Shibes have reported issues with getting their dogecoins out of binance.us (maybe binance.com as well). /u/patricklodder created an informative post recently that shows people just how to do this if you have an Android phone. Check it out here. https://www.reddit.com/r/dogecoin/comments/rxhefe/guide_how_to_get_your_doge_out_of_binance_android/\\n\\n\\n---\\n\\n\\nFor more technical discussions about dogecoin please visit /r/dogecoindev \\n\\n---\\n\\n\\nDon't forget to report posts and comments you think are not appropriate for the subreddit. If you want to discuss something specific please [message the moderators](https://www.reddit.com/message/compose/?to=/r/dogecoin)\\n\\nDo you want something added here? Send the moderators modmail to discuss. Do you want something removed from here? Well send modmail too. You all make this post together and your help is always appreciated. \\n\\nYou are loved, \\n\\n42\\n\\n___\\n\\n**D**o **O**nly **G**ood **E**veryday\\n\\nJust keep on dancing!                                                                                                                                                                                                                                                                                                                                                                                                                                                                                                                                                                                                                                                                                                                                                                                                                                                                                                                                                                                                                                                                                                                                                                                                                                                                                                                                                                                                                                                                                                                                                                                                                                                                117\n",
       "The lightning network is a second-layer solution on top of the Bitcoin blockchain that enables quick, cheap and scalable Bitcoin payments.\\n\\nHere is the place to discuss and learn more about lightning!\\n\\nAsk your questions about lightning\\n\\nProvide reviews, feedback, comparisons of LN apps, services, websites etc\\n\\nLearn about new LN features, development, apps\\n\\nLink to good quality resources (articles, wikis etc)\\n\\nResources:\\n\\n* Here is an awesome list of resources compiled by Jameson Lopp: https://www.lopp.net/lightning-information.html\\n\\n* Want to test out your lightning fire power? tip the Bitcoin devs! https://bitcoindevlist.com/\\n\\n* Previous threads: [Search](https://www.reddit.com/r/Bitcoin/search?q=Lightning+Thursday&restrict_sr=on&include_over_18=on&sort=new&t=all)\\n\\n* Lnbook getting closer towards being finished and can already be seen at: https://github.com/lnbook/lnbook\\n\\n* Lightning Dedicated YouTube Channel: https://youtube.com/renepickhardt\\n\\n* Also there is the playlist by chaincode labs: https://youtube.com/playlist?list=PLpLH33TRghT17_U3as2P3vHfAGL8pSOOY\\n\\n* Lightning stores: https://www.lightningnetworkstores.com/\\n\\n* Learn more and talk about lightning right here in r/Bitcoin, r/bitcoinbeginners, r/thelightningnetwork, and [the r/Bitcoin chat](https://discord.gg/qE3rWBRNqh)                                                                                                                                                                                                                                                                                                                                                                                                                                                                                                                                                                                                                                                                                                                                                                                                                                                                                                                                                                                                                                                                                                                                                                                                                                                                                                                                                                                                                                                                                                                                                                                                                                                                                                                                                                                                                                                                                                                                                                                                                                                                                                                                                                                                                                                                                                                                                                                                                                                                                                                                                                                                                                                                                                                                                                                                                                                                                                                                                                                                                                                                                                                                                                                                                                                                                                                                                                                                                                                                                                                                                                                                                                                                                                                                                                                                                                                                                                                                                                                                                                                                                                                                                                                                                51\n",
       "Hi Shibes,\\n\\nWelcome to todays Daily Discussion post. **YOU ARE DOGECOIN!**\\n\\nIf you are looking to safely store your coins for the long term check the links in the \"How to buy DOGECOIN\" post at the top of the subreddit. \\n\\nIf you want to give someone else DOGECOIN on Reddit check out /r/sodogetip \\n\\nYou can also get the latest version of the dogecoin wallet (version  1.14.6) from www.dogecoin.com \\n\\n---\\n\\nHere are some links and topics that people have wanted me to post here. Please take a look!\\n\\n* [HOW TO BUY DOGECOIN GUIDE UPDATED](https://redd.it/qrhcs5/) - https://redd.it/qrhcs5\\n\\n* [[Guide] How to create and redeem paper wallets! ](https://redd.it/r7cg2e)   \\n\\n* [[Guide] Extract the recovery phrase from the Android apappp Dogecoin Wallet created by langerhans](https://redd.it/rcvzw4) \\n\\n* [[Guide] A quick comparison of Dogecoin wallets](https://redd.it/rd8hya) \\n\\n* [Such News! Are we ready for our tipbot keys?](https://www.reddit.com/r/dogecoin/comments/nw6okq/such_news_are_we_ready_for_our_tipbot_keys_ive/)\\n\\n* [Cryptwerk.com is a list of many many many places you can spend dogecoin.](https://cryptwerk.com/pay-with/doge/)\\n\\n* [Advice from a Gambling Counsellor](https://www.reddit.com/r/dogecoin/comments/mwrltk/advice_from_a_gambling_counsellor/) - https://redd.it/mwrltk\\n\\n* [Looking after your mental health](https://reddit.com/r/dogecoin/comments/mtf2ym/reminder_that_dogecoin_is_awesome_but_its_not/) - https://redd.it/mtf2ym\\n\\n* [Being aware of scammers](https://www.reddit.com/r/dogeducation/comments/n9nwfc/scammers/)\\n\\n* [Another Shibe wrote a post about being aware of scams.](https://redd.it/mrq5c9) - https://redd.it/mrq5c9\\n\\n* [F@H (Folding@Home) and GitHub are NOT Doge helplines!](https://www.reddit.com/r/dogecoin/comments/n6wtnr/fh_foldinghome_and_github_are_not_doge_helplines/)\\n\\n* [From 7 years ago. An open letter to the Dogecoin community from co-founder Billy Markus](https://www.reddit.com/r/dogecoin/comments/1xaeue/enjoy_this_moment_an_open_letter_to_the_dogecoin/)\\n\\n* [Had a few people ask me to mention this petition to get Amazon to accept dogecoin](http://chng.it/R48d6XYwMr)\\n\\nSome Shibes have reported issues with getting their dogecoins out of binance.us (maybe binance.com as well). /u/patricklodder created an informative post recently that shows people just how to do this if you have an Android phone. Check it out here. https://www.reddit.com/r/dogecoin/comments/rxhefe/guide_how_to_get_your_doge_out_of_binance_android/\\n\\n\\n---\\n\\n\\nFor more technical discussions about dogecoin please visit /r/dogecoindev \\n\\n---\\n\\n\\nDon't forget to report posts and comments you think are not appropriate for the subreddit. If you want to discuss something specific please [message the moderators](https://www.reddit.com/message/compose/?to=/r/dogecoin)\\n\\nDo you want something added here? Send the moderators modmail to discuss. Do you want something removed from here? Well send modmail too. You all make this post together and your help is always appreciated. \\n\\nYou are loved, \\n\\n42\\n\\n___\\n\\n**D**o **O**nly **G**ood **E**veryday\\n\\nJust keep on dancing!                                                                                                                                                                                                                                                                                                                                                                                                                                                                                                                                                                                                                                                                                                                                                                                                                                                                                                                                                                                                                                                                                                                                                                                                                                                                                                                                                                                                                                                                                                                                                                                                                                                                                                                                                                                                                                                                                                                                                                                                                                                                                                                                                                                                                                                                                                                                  51\n",
       "**Welcome to the Daily General Discussion thread. Please read the disclaimer and rules before participating.**\\n \\n***\\n&nbsp;\\n    \\n###Disclaimer:\\n\\nConsider all information posted here with several liberal heaps of salt, and always cross check any information you may read on this thread with known sources. Any trade information posted in this open thread may be highly misleading, and could be an attempt to manipulate new readers by known \"pump and dump (PnD) groups\" for their own profit. BEWARE of such practices and exercise utmost caution before acting on any trade tip mentioned here. \\n\\n\\n**Please be careful about what information you share and the actions you take.** Do not share the amounts of your portfolios (why not just share percentage?). Do not share your private keys or wallet seed. Use strong, non-SMS 2FA if possible. Beware of scammers and be smart. Do not invest more than you can afford to lose, and do not fall for pyramid schemes, promises of unrealistic returns (get-rich-quick schemes), and other common scams.\\n    \\n***\\n&nbsp;\\n    \\n###Rules:\\n\\n  - All [sub rules](https://www.reddit.com/r/CryptoCurrency/about/rules/) apply in this thread. The prior exemption for karma and age requirements is no longer in effect. \\n  - Discussion topics must be related to cryptocurrency.\\n  - Behave with civility and politeness. Do not use offensive, racist or homophobic language.\\n  - Comments will be sorted by newest first.\\n  \\n***\\n&nbsp;\\n\\n###Useful Links:\\n\\n  - [**Beginner Resources**](https://www.reddit.com/r/CryptoCurrency/wiki/beginner_resources)\\n\\n  - [**Intro to r/Cryptocurrency MOONs 🌔**](https://www.reddit.com/r/CryptoCurrency/comments/gj96lb/introducing_rcryptocurrency_moons/)\\n\\n  - [**MOONs Wiki Page**](https://www.reddit.com/r/CryptoCurrency/wiki/moons_wiki/)\\n\\n  - [**r/CryptoCurrency Discord**](https://old.reddit.com/r/CryptoCurrency/comments/kth255/join_the_crypto_currency_discord/)\\n\\n  - [**r/CryptoCurrencyMemes**](https://www.reddit.com/r/cryptocurrencymemes)\\n\\n  - [**Prior Daily Discussions**](https://old.reddit.com/r/CryptoCurrency/search?q=title%3A\"Daily+Discussion+-+\"+&restrict_sr=on&sort=new&t=all)\\n\\n  - [**r/CryptoCurrencyMeta**](https://www.reddit.com/r/CryptoCurrencyMeta/) - Join in on all meta discussions regarding r/CryptoCurrency whether it be moon distributions or governance.                                                                                                                                                                                                                                                                                                                                                                                                                                                                                                                                                                                                                                                                                                                                                                                                                                                                                                                                                                                                                                                                                                                                                                                                                                                                                                                                                                                                                                                                                                                                                                                                                                                                                                                                                                                                                                                                                                                                                                                                                                                                                                                                                                                                                                                                                                                                                                                                                                                                                                                                                                                                                                                                                                                                                                                                                                                                                                                                                                                                                                                                                                                                        50\n",
       "Ask (and answer!) away! Here are the general rules:\\r\\n\\r\\n* If you'd like to learn something, ask.\\r\\n* If you'd like to share knowledge, answer.\\r\\n* Any question about Bitcoin is fair game.\\r\\n\\r\\nAnd don't forget to check out /r/BitcoinBeginners\\r\\n\\r\\nYou can sort by new to see the latest questions that may not be answered yet.                                                                                                                                                                                                                                                                                                                                                                                                                                                                                                                                                                                                                                                                                                                                                                                                                                                                                                                                                                                                                                                                                                                                                                                                                                                                                                                                                                                                                                                                                                                                                                                                                                                                                                                                                                                                                                                                                                                                                                                                                                                                                                                                                                                                                                                                                                                                                                                                                                                                                                                                                                                                                                                                                                                                                                                                                                                                                                                                                                                                                                                                                                                                                                                                                                                                                                                                                                                                                                                                                                                                                                                                                                                                                                                                                                                                                                                                                                                                                                                                                                                                                                                                                                                                                                                                                                                                                                                                                                                                                                                                                                                                                                                                                                                                                                                                                                                                                                                                                                                                                                                                                                                                                                                                                                                    50\n",
       "Hi Shibes,\\n\\nWelcome to todays Daily Discussion post. **YOU ARE DOGECOIN!**\\n\\n---\\n\\nI've received a message from a very helpful shibe who wanted to make sure you're all aware just how important it is to keep your coins safe. \\n\\nLots of people could be storing their coins within apps on their phones (without a way to recover if their phone is broken) or even on an exchange. Both these methods can increase your chances of losing your coins. \\n\\nIf you are holding for a long time you really need to store your coins in an offline manner. Yes, away from the internet and other people. There are many different ways to do this. A lot of people like to use a purpose built hardware wallet like a ledger. Others who might be a little more technically inclined would use a wallet on their computer and extract their private keys. Some do this via websites but be very careful as there are many scam websites out there. \\n\\nIf you know of other ways please discuss in the comments. Please also be aware of random people who might try to steal your keys and thus your coins. You need to really think critically about this to stay safe. \\n\\nHere are two links that explain within them how to safely backup your coins to store them offline. If you know of other posts please link them in the comments and I can add them to an upcoming post. \\n\\n1.  [The Ultimate Simple Guide for Buying, Trading and Storing Dogecoin ](https://www.reddit.com/r/dogecoin/comments/mso3z0/the_ultimate_simple_guide_for_buying_trading_and/)  \\n2. [How to create and redeem a paper wallet.](https://www.reddit.com/r/dogecoin/comments/r7cg2e/guide_how_to_create_and_redeem_paper_wallets/)  \\n\\n\\n---\\n\\nAlso I just want to quickly remind people that this subreddit does have a tipbot where you can give each other dogecoins.   \\n\\n-->> [Click on this link for instructions on how to start a tipbot account](https://www.reddit.com/r/sodogetip/wiki/index) <<---  \\n\\nOnce you sign up you will get an on-chain wallet address where you can track your coins. You can also get the private key for this wallet from the SoDogeTip website. You can transfer dogecoins into this wallet address and begin giving dogecoin to other people on reddit! And using your key you can also send coins yourself, even if the tipbot is down\\nMaybe you see a meme that made you laugh? Give them a few dogecoin.\\nMaybe you see an insightful post that helped you understand something better? Give them a few dogecoin.\\nMaybe you see a charity you'd like to donate to. Do it with sodogetip. \\n\\nYou can also get the latest version of the dogecoin wallet (version  1.14.5) from www.dogecoin.com \\n\\n---\\n\\nHere are some links and topics that people have wanted me to post here. Please take a look!\\n\\n* [HOW TO BUY DOGECOIN GUIDE UPDATED](https://redd.it/qrhcs5/) - https://redd.it/qrhcs5\\n\\n* [[Guide] How to create and redeem paper wallets! ](https://redd.it/r7cg2e)   \\n\\n* [[Guide] Extract the recovery phrase from the Android apappp Dogecoin Wallet created by langerhans](https://redd.it/rcvzw4) \\n\\n* [[Guide] A quick comparison of Dogecoin wallets](https://redd.it/rd8hya) \\n\\n* [Such News! Are we ready for our tipbot keys?](https://www.reddit.com/r/dogecoin/comments/nw6okq/such_news_are_we_ready_for_our_tipbot_keys_ive/)\\n\\n* [Cryptwerk.com is a list of many many many places you can spend dogecoin.](https://cryptwerk.com/pay-with/doge/)\\n\\n* [Advice from a Gambling Counsellor](https://www.reddit.com/r/dogecoin/comments/mwrltk/advice_from_a_gambling_counsellor/) - https://redd.it/mwrltk\\n\\n* [Looking after your mental health](https://reddit.com/r/dogecoin/comments/mtf2ym/reminder_that_dogecoin_is_awesome_but_its_not/) - https://redd.it/mtf2ym\\n\\n* [Being aware of scammers](https://www.reddit.com/r/dogeducation/comments/n9nwfc/scammers/)\\n\\n* [Another Shibe wrote a post about being aware of scams.](https://redd.it/mrq5c9) - https://redd.it/mrq5c9\\n\\n* [F@H (Folding@Home) and GitHub are NOT Doge helplines!](https://www.reddit.com/r/dogecoin/comments/n6wtnr/fh_foldinghome_and_github_are_not_doge_helplines/)\\n\\n* [From 7 years ago. An open letter to the Dogecoin community from co-founder Billy Markus](https://www.reddit.com/r/dogecoin/comments/1xaeue/enjoy_this_moment_an_open_letter_to_the_dogecoin/)\\n\\n* [Had a few people ask me to mention this petition to get Amazon to accept dogecoin](http://chng.it/R48d6XYwMr)\\n\\nSome Shibes have reported issues with getting their dogecoins out of binance.us (maybe binance.com as well). /u/patricklodder created an informative post recently that shows people just how to do this if you have an Android phone. Check it out here. https://www.reddit.com/r/dogecoin/comments/rxhefe/guide_how_to_get_your_doge_out_of_binance_android/\\n\\n\\n---\\n\\n\\nFor more technical discussions about dogecoin please visit /r/dogecoindev \\n\\n---\\n\\n\\nDon't forget to report posts and comments you think are not appropriate for the subreddit. If you want to discuss something specific please [message the moderators](https://www.reddit.com/message/compose/?to=/r/dogecoin)\\n\\nDo you want something added here? Send the moderators modmail to discuss. Do you want something removed from here? Well send modmail too. You all make this post together and your help is always appreciated. \\n\\nYou are loved, \\n\\n42\\n\\n___\\n\\n**D**o **O**nly **G**ood **E**veryday\\n\\nJust keep on dancing!        44\n",
       "Name: text, dtype: int64"
      ]
     },
     "execution_count": 222,
     "metadata": {},
     "output_type": "execute_result"
    }
   ],
   "source": [
    "# Check for duplicate text\n",
    "df['text'].value_counts()[:10]"
   ]
  },
  {
   "cell_type": "code",
   "execution_count": 225,
   "id": "bcedcef9-3c8a-4962-b15a-4b1ede826121",
   "metadata": {
    "execution": {
     "iopub.execute_input": "2023-01-22T01:22:26.309489Z",
     "iopub.status.busy": "2023-01-22T01:22:26.309126Z",
     "iopub.status.idle": "2023-01-22T01:22:26.419799Z",
     "shell.execute_reply": "2023-01-22T01:22:26.419087Z",
     "shell.execute_reply.started": "2023-01-22T01:22:26.309459Z"
    },
    "tags": []
   },
   "outputs": [],
   "source": [
    "df = df.dropna()\n",
    "\n",
    "# Removing duplicate text and the original because duplicated texts are most likely moderator code of conduct related text\n",
    "df = df.drop_duplicates(subset='text', keep=False)\n",
    "df = df[(df['text'] != '[removed]') & (df['text'] != '[deleted]')]"
   ]
  },
  {
   "cell_type": "code",
   "execution_count": 226,
   "id": "2787caf2-3ab8-4fb4-ad37-883dfeb0f683",
   "metadata": {
    "execution": {
     "iopub.execute_input": "2023-01-22T01:22:28.524753Z",
     "iopub.status.busy": "2023-01-22T01:22:28.524385Z",
     "iopub.status.idle": "2023-01-22T01:22:28.529956Z",
     "shell.execute_reply": "2023-01-22T01:22:28.529172Z",
     "shell.execute_reply.started": "2023-01-22T01:22:28.524725Z"
    },
    "tags": []
   },
   "outputs": [
    {
     "data": {
      "text/plain": [
       "90810"
      ]
     },
     "execution_count": 226,
     "metadata": {},
     "output_type": "execute_result"
    }
   ],
   "source": [
    "len(df)"
   ]
  },
  {
   "cell_type": "markdown",
   "id": "3ce87b1a-273c-4c57-83b0-b2d42f8a377b",
   "metadata": {},
   "source": [
    "### Remove same comments from original crypto dataset to prevent data leakage"
   ]
  },
  {
   "cell_type": "code",
   "execution_count": 227,
   "id": "e0e03bc6-2700-41e4-a229-e09dc4a4932e",
   "metadata": {
    "execution": {
     "iopub.execute_input": "2023-01-22T01:22:33.914959Z",
     "iopub.status.busy": "2023-01-22T01:22:33.914330Z",
     "iopub.status.idle": "2023-01-22T01:22:33.926188Z",
     "shell.execute_reply": "2023-01-22T01:22:33.925304Z",
     "shell.execute_reply.started": "2023-01-22T01:22:33.914931Z"
    },
    "tags": []
   },
   "outputs": [],
   "source": [
    "crypto_comments = pd.read_csv('../datasets/crypto_reddit_sentiment.csv', usecols=['Reddit URL', 'Comment Text'])"
   ]
  },
  {
   "cell_type": "code",
   "execution_count": 228,
   "id": "6d142bf6-0ee0-4ab8-9d2d-b0b2e9548dab",
   "metadata": {
    "execution": {
     "iopub.execute_input": "2023-01-22T01:22:34.329644Z",
     "iopub.status.busy": "2023-01-22T01:22:34.329094Z",
     "iopub.status.idle": "2023-01-22T01:22:34.338890Z",
     "shell.execute_reply": "2023-01-22T01:22:34.337627Z",
     "shell.execute_reply.started": "2023-01-22T01:22:34.329618Z"
    },
    "tags": []
   },
   "outputs": [],
   "source": [
    "def extract_reddit_community(url):\n",
    "    community_search = re.search('reddit.com\\/r\\/(\\w+)\\/', url, re.IGNORECASE)\n",
    "    return community_search.group(1).lower()\n",
    "\n",
    "\n",
    "def extract_submission(url):\n",
    "    community_search = re.search('reddit.com\\/r\\/\\w+\\/comments/(\\w+)', url, re.IGNORECASE)\n",
    "    return community_search.group(1).lower()"
   ]
  },
  {
   "cell_type": "code",
   "execution_count": 229,
   "id": "147b0f19-2ad6-4640-b1d3-1bad02badce0",
   "metadata": {
    "execution": {
     "iopub.execute_input": "2023-01-22T01:22:34.691355Z",
     "iopub.status.busy": "2023-01-22T01:22:34.690780Z",
     "iopub.status.idle": "2023-01-22T01:22:34.698329Z",
     "shell.execute_reply": "2023-01-22T01:22:34.697594Z",
     "shell.execute_reply.started": "2023-01-22T01:22:34.691328Z"
    },
    "tags": []
   },
   "outputs": [],
   "source": [
    "crypto_comments['subreddit'] = crypto_comments['Reddit URL'].apply(extract_reddit_community)\n",
    "crypto_comments['submission'] = crypto_comments['Reddit URL'].apply(extract_submission)"
   ]
  },
  {
   "cell_type": "code",
   "execution_count": 230,
   "id": "59f78c7b-e369-4774-89a2-3cb74442286e",
   "metadata": {
    "execution": {
     "iopub.execute_input": "2023-01-22T01:22:35.093123Z",
     "iopub.status.busy": "2023-01-22T01:22:35.092791Z",
     "iopub.status.idle": "2023-01-22T01:22:35.097608Z",
     "shell.execute_reply": "2023-01-22T01:22:35.096889Z",
     "shell.execute_reply.started": "2023-01-22T01:22:35.093095Z"
    },
    "tags": []
   },
   "outputs": [],
   "source": [
    "crypto_comments = crypto_comments[crypto_comments['subreddit'].isin(communities)]"
   ]
  },
  {
   "cell_type": "code",
   "execution_count": 233,
   "id": "3c41e210-f673-4245-8187-a05d346599a2",
   "metadata": {
    "execution": {
     "iopub.execute_input": "2023-01-22T01:22:41.815870Z",
     "iopub.status.busy": "2023-01-22T01:22:41.815304Z",
     "iopub.status.idle": "2023-01-22T01:22:41.850698Z",
     "shell.execute_reply": "2023-01-22T01:22:41.850014Z",
     "shell.execute_reply.started": "2023-01-22T01:22:41.815843Z"
    },
    "tags": []
   },
   "outputs": [],
   "source": [
    "overlap = crypto_comments.merge(df, how='inner', left_on='Comment Text', right_on='text')"
   ]
  },
  {
   "cell_type": "code",
   "execution_count": 234,
   "id": "83bcbd42-bd9c-4949-8c0b-67f43e083421",
   "metadata": {
    "execution": {
     "iopub.execute_input": "2023-01-22T01:22:42.429266Z",
     "iopub.status.busy": "2023-01-22T01:22:42.428706Z",
     "iopub.status.idle": "2023-01-22T01:22:42.436148Z",
     "shell.execute_reply": "2023-01-22T01:22:42.435398Z",
     "shell.execute_reply.started": "2023-01-22T01:22:42.429239Z"
    },
    "tags": []
   },
   "outputs": [
    {
     "data": {
      "text/html": [
       "<div>\n",
       "<style scoped>\n",
       "    .dataframe tbody tr th:only-of-type {\n",
       "        vertical-align: middle;\n",
       "    }\n",
       "\n",
       "    .dataframe tbody tr th {\n",
       "        vertical-align: top;\n",
       "    }\n",
       "\n",
       "    .dataframe thead th {\n",
       "        text-align: right;\n",
       "    }\n",
       "</style>\n",
       "<table border=\"1\" class=\"dataframe\">\n",
       "  <thead>\n",
       "    <tr style=\"text-align: right;\">\n",
       "      <th></th>\n",
       "      <th>Comment Text</th>\n",
       "      <th>Reddit URL</th>\n",
       "      <th>subreddit_x</th>\n",
       "      <th>submission_x</th>\n",
       "      <th>submission_y</th>\n",
       "      <th>subreddit_y</th>\n",
       "      <th>text</th>\n",
       "    </tr>\n",
       "  </thead>\n",
       "  <tbody>\n",
       "  </tbody>\n",
       "</table>\n",
       "</div>"
      ],
      "text/plain": [
       "Empty DataFrame\n",
       "Columns: [Comment Text, Reddit URL, subreddit_x, submission_x, submission_y, subreddit_y, text]\n",
       "Index: []"
      ]
     },
     "execution_count": 234,
     "metadata": {},
     "output_type": "execute_result"
    }
   ],
   "source": [
    "overlap"
   ]
  },
  {
   "cell_type": "code",
   "execution_count": 237,
   "id": "22f252d6-cb80-41ef-a001-09287442c78e",
   "metadata": {
    "execution": {
     "iopub.execute_input": "2023-01-22T01:23:09.336767Z",
     "iopub.status.busy": "2023-01-22T01:23:09.336432Z",
     "iopub.status.idle": "2023-01-22T01:23:09.343100Z",
     "shell.execute_reply": "2023-01-22T01:23:09.342375Z",
     "shell.execute_reply.started": "2023-01-22T01:23:09.336741Z"
    }
   },
   "outputs": [
    {
     "data": {
      "text/plain": [
       "Index(['submission', 'subreddit', 'text'], dtype='object')"
      ]
     },
     "execution_count": 237,
     "metadata": {},
     "output_type": "execute_result"
    }
   ],
   "source": [
    "df.columns"
   ]
  },
  {
   "cell_type": "code",
   "execution_count": 240,
   "id": "6f5995ac-0915-4ece-bbb5-972d293525c2",
   "metadata": {
    "execution": {
     "iopub.execute_input": "2023-01-22T01:27:55.161693Z",
     "iopub.status.busy": "2023-01-22T01:27:55.161117Z",
     "iopub.status.idle": "2023-01-22T01:28:09.197897Z",
     "shell.execute_reply": "2023-01-22T01:28:09.197214Z",
     "shell.execute_reply.started": "2023-01-22T01:27:55.161666Z"
    },
    "tags": []
   },
   "outputs": [],
   "source": [
    "# Only converting the emojis into text. Leaving the urls alone because distilbert can handle them (doesn't process them as UNK tokens). \n",
    "df['text'] = df['text'].apply(emoji.demojize)"
   ]
  },
  {
   "cell_type": "code",
   "execution_count": null,
   "id": "8bd298f1-c33d-411c-96b8-d8504c7ae36a",
   "metadata": {
    "execution": {
     "iopub.execute_input": "2023-01-22T01:28:09.200112Z",
     "iopub.status.busy": "2023-01-22T01:28:09.199650Z"
    },
    "tags": []
   },
   "outputs": [],
   "source": [
    "df.to_csv('training.csv', index=None)"
   ]
  }
 ],
 "metadata": {
  "kernelspec": {
   "display_name": "Python 3 (ipykernel)",
   "language": "python",
   "name": "python3"
  },
  "language_info": {
   "codemirror_mode": {
    "name": "ipython",
    "version": 3
   },
   "file_extension": ".py",
   "mimetype": "text/x-python",
   "name": "python",
   "nbconvert_exporter": "python",
   "pygments_lexer": "ipython3",
   "version": "3.9.16"
  }
 },
 "nbformat": 4,
 "nbformat_minor": 5
}
